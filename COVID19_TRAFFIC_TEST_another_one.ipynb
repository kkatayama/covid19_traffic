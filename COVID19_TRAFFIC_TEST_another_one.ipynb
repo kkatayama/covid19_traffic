{
  "nbformat": 4,
  "nbformat_minor": 0,
  "metadata": {
    "colab": {
      "name": "Copy of Copy of COVID19_TRAFFIC_TEST",
      "provenance": [],
      "include_colab_link": true
    },
    "kernelspec": {
      "name": "python3",
      "display_name": "Python 3"
    },
    "accelerator": "GPU"
  },
  "cells": [
    {
      "cell_type": "markdown",
      "metadata": {
        "id": "view-in-github",
        "colab_type": "text"
      },
      "source": [
        "<a href=\"https://colab.research.google.com/github/kkatayama/covid19_traffic/blob/master/COVID19_TRAFFIC_TEST_another_one.ipynb\" target=\"_parent\"><img src=\"https://colab.research.google.com/assets/colab-badge.svg\" alt=\"Open In Colab\"/></a>"
      ]
    },
    {
      "cell_type": "markdown",
      "metadata": {
        "id": "Rv9q8ik3yUO5",
        "colab_type": "text"
      },
      "source": [
        "# Import and Setup "
      ]
    },
    {
      "cell_type": "code",
      "metadata": {
        "id": "WTIlHXxMxqQf",
        "colab_type": "code",
        "outputId": "a8423f33-c6da-46fd-b73b-7f74b8f5dc5c",
        "colab": {
          "base_uri": "https://localhost:8080/",
          "height": 34
        }
      },
      "source": [
        "import pandas as pd\n",
        "import numpy as np\n",
        "import requests\n",
        "from google.colab import drive\n",
        "\n",
        "drive.mount('/content/gdrive')"
      ],
      "execution_count": 30,
      "outputs": [
        {
          "output_type": "stream",
          "text": [
            "Drive already mounted at /content/gdrive; to attempt to forcibly remount, call drive.mount(\"/content/gdrive\", force_remount=True).\n"
          ],
          "name": "stdout"
        }
      ]
    },
    {
      "cell_type": "code",
      "metadata": {
        "id": "1vvMBltuyZeF",
        "colab_type": "code",
        "outputId": "ecbfd9a5-2aac-4df2-bce0-e1270a87437d",
        "colab": {
          "base_uri": "https://localhost:8080/",
          "height": 34
        }
      },
      "source": [
        "cd /content/gdrive/'My Drive'/tmp/\n"
      ],
      "execution_count": 35,
      "outputs": [
        {
          "output_type": "stream",
          "text": [
            "/content/gdrive/My Drive/tmp\n"
          ],
          "name": "stdout"
        }
      ]
    },
    {
      "cell_type": "code",
      "metadata": {
        "id": "xu07vqePdsou",
        "colab_type": "code",
        "outputId": "2a23413e-a34f-46a2-fae0-6419def14a7e",
        "colab": {
          "base_uri": "https://localhost:8080/",
          "height": 156
        }
      },
      "source": [
        "!git clone https://github.com/ahmetozlu/vehicle_counting_tensorflow.git"
      ],
      "execution_count": 0,
      "outputs": [
        {
          "output_type": "stream",
          "text": [
            "Cloning into 'vehicle_counting_tensorflow'...\n",
            "remote: Enumerating objects: 3, done.\u001b[K\n",
            "remote: Counting objects: 100% (3/3), done.\u001b[K\n",
            "remote: Compressing objects: 100% (3/3), done.\u001b[K\n",
            "remote: Total 1401 (delta 0), reused 1 (delta 0), pack-reused 1398\u001b[K\n",
            "Receiving objects: 100% (1401/1401), 243.47 MiB | 20.98 MiB/s, done.\n",
            "Resolving deltas: 100% (690/690), done.\n",
            "Checking out files: 100% (1333/1333), done.\n"
          ],
          "name": "stdout"
        }
      ]
    },
    {
      "cell_type": "code",
      "metadata": {
        "id": "KRb3tcDp-wrI",
        "colab_type": "code",
        "outputId": "3779d049-e1b8-4911-ebf4-66ef721012bc",
        "colab": {
          "base_uri": "https://localhost:8080/",
          "height": 34
        }
      },
      "source": [
        "cd /content/gdrive/'My Drive'/tmp/vehicle_counting_tensorflow/"
      ],
      "execution_count": 37,
      "outputs": [
        {
          "output_type": "stream",
          "text": [
            "/content/gdrive/My Drive/tmp/vehicle_counting_tensorflow\n"
          ],
          "name": "stdout"
        }
      ]
    },
    {
      "cell_type": "code",
      "metadata": {
        "id": "73dzYVkjzrWj",
        "colab_type": "code",
        "outputId": "787b5bcb-df91-49aa-eda9-e344424c1a8f",
        "colab": {
          "base_uri": "https://localhost:8080/",
          "height": 34
        }
      },
      "source": [
        "!python3 vehicle_detection_main.py ../DATASET/1579442319_200119_0854_SCAN_day/1579442055_KCAM001.ts 2> /dev/null"
      ],
      "execution_count": 0,
      "outputs": [
        {
          "output_type": "stream",
          "text": [
            "../DATASET/1579442319_200119_0854_SCAN_day/1579442055_KCAM001.ts 5\n"
          ],
          "name": "stdout"
        }
      ]
    },
    {
      "cell_type": "code",
      "metadata": {
        "id": "L23iRGg0_yGU",
        "colab_type": "code",
        "outputId": "2401a2fb-8f79-4cf2-f9a4-b56e2df65316",
        "colab": {
          "base_uri": "https://localhost:8080/",
          "height": 121
        }
      },
      "source": [
        "cat run_day.sh"
      ],
      "execution_count": 38,
      "outputs": [
        {
          "output_type": "stream",
          "text": [
            "FILES=../DATASET/1579442319_200119_0854_SCAN_day/*.ts\n",
            "for f in $FILES\n",
            "do\n",
            "    # echo $f\n",
            "    python3 vehicle_detection_main.py $f 2> /dev/null\n",
            "done\n"
          ],
          "name": "stdout"
        }
      ]
    },
    {
      "cell_type": "code",
      "metadata": {
        "id": "vcDaoT0JBkVZ",
        "colab_type": "code",
        "colab": {}
      },
      "source": [
        "!chmod a+x run_day.sh"
      ],
      "execution_count": 0,
      "outputs": []
    },
    {
      "cell_type": "code",
      "metadata": {
        "id": "kHQPY2foBrBC",
        "colab_type": "code",
        "colab": {
          "base_uri": "https://localhost:8080/",
          "height": 130
        },
        "outputId": "b84f2e6a-5d20-40e6-f2c9-46c59bf23e62"
      },
      "source": [
        "!bash ./run_day.sh"
      ],
      "execution_count": 0,
      "outputs": [
        {
          "output_type": "stream",
          "text": [
            "../DATASET/1579442319_200119_0854_SCAN_day/1579442055_KCAM001.ts 5\n",
            "../DATASET/1579442319_200119_0854_SCAN_day/1579442057_KCAM002.ts 5\n",
            "../DATASET/1579442319_200119_0854_SCAN_day/1579442059_KCAM003.ts 5\n",
            "../DATASET/1579442319_200119_0854_SCAN_day/1579442060_KCAM004.ts 5\n",
            "../DATASET/1579442319_200119_0854_SCAN_day/1579442061_KCAM005.ts 5\n"
          ],
          "name": "stdout"
        }
      ]
    }
  ]
}