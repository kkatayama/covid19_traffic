{
  "nbformat": 4,
  "nbformat_minor": 0,
  "metadata": {
    "colab": {
      "name": "Copy of Copy of COVID19_TRAFFIC_TEST",
      "provenance": [],
      "include_colab_link": true
    },
    "kernelspec": {
      "name": "python3",
      "display_name": "Python 3"
    },
    "accelerator": "GPU"
  },
  "cells": [
    {
      "cell_type": "markdown",
      "metadata": {
        "id": "view-in-github",
        "colab_type": "text"
      },
      "source": [
        "<a href=\"https://colab.research.google.com/github/kkatayama/covid19_traffic/blob/master/COVID19_TRAFFIC_TEST_another_one.ipynb\" target=\"_parent\"><img src=\"https://colab.research.google.com/assets/colab-badge.svg\" alt=\"Open In Colab\"/></a>"
      ]
    },
    {
      "cell_type": "markdown",
      "metadata": {
        "id": "Rv9q8ik3yUO5",
        "colab_type": "text"
      },
      "source": [
        "# Import and Setup "
      ]
    },
    {
      "cell_type": "code",
      "metadata": {
        "id": "WTIlHXxMxqQf",
        "colab_type": "code",
        "outputId": "935af3a9-41bd-483e-8042-195c6b97d20e",
        "colab": {
          "base_uri": "https://localhost:8080/",
          "height": 124
        }
      },
      "source": [
        "import pandas as pd\n",
        "import numpy as np\n",
        "import requests\n",
        "from google.colab import drive\n",
        "\n",
        "drive.mount('/content/gdrive')"
      ],
      "execution_count": 1,
      "outputs": [
        {
          "output_type": "stream",
          "text": [
            "Go to this URL in a browser: https://accounts.google.com/o/oauth2/auth?client_id=947318989803-6bn6qk8qdgf4n4g3pfee6491hc0brc4i.apps.googleusercontent.com&redirect_uri=urn%3aietf%3awg%3aoauth%3a2.0%3aoob&response_type=code&scope=email%20https%3a%2f%2fwww.googleapis.com%2fauth%2fdocs.test%20https%3a%2f%2fwww.googleapis.com%2fauth%2fdrive%20https%3a%2f%2fwww.googleapis.com%2fauth%2fdrive.photos.readonly%20https%3a%2f%2fwww.googleapis.com%2fauth%2fpeopleapi.readonly\n",
            "\n",
            "Enter your authorization code:\n",
            "··········\n",
            "Mounted at /content/gdrive\n"
          ],
          "name": "stdout"
        }
      ]
    },
    {
      "cell_type": "code",
      "metadata": {
        "id": "1vvMBltuyZeF",
        "colab_type": "code",
        "outputId": "e0857781-17e2-4cfe-885e-a43c50ec296c",
        "colab": {
          "base_uri": "https://localhost:8080/",
          "height": 34
        }
      },
      "source": [
        "cd /content/gdrive/'My Drive'/tmp/DATASET\n"
      ],
      "execution_count": 6,
      "outputs": [
        {
          "output_type": "stream",
          "text": [
            "/content/gdrive/.shortcut-targets-by-id/1GeHDjL4HgWBnqynFT_l-igyBVtQi0fw4/DATASET\n"
          ],
          "name": "stdout"
        }
      ]
    },
    {
      "cell_type": "code",
      "metadata": {
        "id": "xu07vqePdsou",
        "colab_type": "code",
        "colab": {
          "base_uri": "https://localhost:8080/",
          "height": 156
        },
        "outputId": "2a23413e-a34f-46a2-fae0-6419def14a7e"
      },
      "source": [
        "!git clone https://github.com/ahmetozlu/vehicle_counting_tensorflow.git"
      ],
      "execution_count": 27,
      "outputs": [
        {
          "output_type": "stream",
          "text": [
            "Cloning into 'vehicle_counting_tensorflow'...\n",
            "remote: Enumerating objects: 3, done.\u001b[K\n",
            "remote: Counting objects: 100% (3/3), done.\u001b[K\n",
            "remote: Compressing objects: 100% (3/3), done.\u001b[K\n",
            "remote: Total 1401 (delta 0), reused 1 (delta 0), pack-reused 1398\u001b[K\n",
            "Receiving objects: 100% (1401/1401), 243.47 MiB | 20.98 MiB/s, done.\n",
            "Resolving deltas: 100% (690/690), done.\n",
            "Checking out files: 100% (1333/1333), done.\n"
          ],
          "name": "stdout"
        }
      ]
    },
    {
      "cell_type": "code",
      "metadata": {
        "id": "73dzYVkjzrWj",
        "colab_type": "code",
        "outputId": "212676d9-5987-4aba-f1b3-f0453642648a",
        "colab": {
          "base_uri": "https://localhost:8080/",
          "height": 923
        }
      },
      "source": [
        "!python3 vehicle_detection_main.py ../DATASET/1579442319_200119_0854_SCAN_day/1579442055_KCAM001.ts"
      ],
      "execution_count": 33,
      "outputs": [
        {
          "output_type": "stream",
          "text": [
            "2020-05-08 18:35:36.670531: I tensorflow/stream_executor/platform/default/dso_loader.cc:44] Successfully opened dynamic library libcudart.so.10.1\n",
            "WARNING:tensorflow:From /usr/local/lib/python3.6/dist-packages/tensorflow/python/compat/v2_compat.py:96: disable_resource_variables (from tensorflow.python.ops.variable_scope) is deprecated and will be removed in a future version.\n",
            "Instructions for updating:\n",
            "non-resource variables are not supported in the long term\n",
            "2020-05-08 18:35:39.750906: I tensorflow/stream_executor/platform/default/dso_loader.cc:44] Successfully opened dynamic library libcuda.so.1\n",
            "2020-05-08 18:35:39.828386: I tensorflow/stream_executor/cuda/cuda_gpu_executor.cc:981] successful NUMA node read from SysFS had negative value (-1), but there must be at least one NUMA node, so returning NUMA node zero\n",
            "2020-05-08 18:35:39.828981: I tensorflow/core/common_runtime/gpu/gpu_device.cc:1561] Found device 0 with properties: \n",
            "pciBusID: 0000:00:04.0 name: Tesla T4 computeCapability: 7.5\n",
            "coreClock: 1.59GHz coreCount: 40 deviceMemorySize: 14.73GiB deviceMemoryBandwidth: 298.08GiB/s\n",
            "2020-05-08 18:35:39.829026: I tensorflow/stream_executor/platform/default/dso_loader.cc:44] Successfully opened dynamic library libcudart.so.10.1\n",
            "2020-05-08 18:35:40.094651: I tensorflow/stream_executor/platform/default/dso_loader.cc:44] Successfully opened dynamic library libcublas.so.10\n",
            "2020-05-08 18:35:40.239255: I tensorflow/stream_executor/platform/default/dso_loader.cc:44] Successfully opened dynamic library libcufft.so.10\n",
            "2020-05-08 18:35:40.265347: I tensorflow/stream_executor/platform/default/dso_loader.cc:44] Successfully opened dynamic library libcurand.so.10\n",
            "2020-05-08 18:35:40.548201: I tensorflow/stream_executor/platform/default/dso_loader.cc:44] Successfully opened dynamic library libcusolver.so.10\n",
            "2020-05-08 18:35:40.570369: I tensorflow/stream_executor/platform/default/dso_loader.cc:44] Successfully opened dynamic library libcusparse.so.10\n",
            "2020-05-08 18:35:41.087602: I tensorflow/stream_executor/platform/default/dso_loader.cc:44] Successfully opened dynamic library libcudnn.so.7\n",
            "2020-05-08 18:35:41.087833: I tensorflow/stream_executor/cuda/cuda_gpu_executor.cc:981] successful NUMA node read from SysFS had negative value (-1), but there must be at least one NUMA node, so returning NUMA node zero\n",
            "2020-05-08 18:35:41.088525: I tensorflow/stream_executor/cuda/cuda_gpu_executor.cc:981] successful NUMA node read from SysFS had negative value (-1), but there must be at least one NUMA node, so returning NUMA node zero\n",
            "2020-05-08 18:35:41.089019: I tensorflow/core/common_runtime/gpu/gpu_device.cc:1703] Adding visible gpu devices: 0\n",
            "2020-05-08 18:35:41.089414: I tensorflow/core/platform/cpu_feature_guard.cc:143] Your CPU supports instructions that this TensorFlow binary was not compiled to use: AVX512F\n",
            "2020-05-08 18:35:41.118419: I tensorflow/core/platform/profile_utils/cpu_utils.cc:102] CPU Frequency: 2000125000 Hz\n",
            "2020-05-08 18:35:41.118709: I tensorflow/compiler/xla/service/service.cc:168] XLA service 0x1e8bb80 initialized for platform Host (this does not guarantee that XLA will be used). Devices:\n",
            "2020-05-08 18:35:41.118761: I tensorflow/compiler/xla/service/service.cc:176]   StreamExecutor device (0): Host, Default Version\n",
            "2020-05-08 18:35:41.261427: I tensorflow/stream_executor/cuda/cuda_gpu_executor.cc:981] successful NUMA node read from SysFS had negative value (-1), but there must be at least one NUMA node, so returning NUMA node zero\n",
            "2020-05-08 18:35:41.262253: I tensorflow/compiler/xla/service/service.cc:168] XLA service 0x1e8aa00 initialized for platform CUDA (this does not guarantee that XLA will be used). Devices:\n",
            "2020-05-08 18:35:41.262294: I tensorflow/compiler/xla/service/service.cc:176]   StreamExecutor device (0): Tesla T4, Compute Capability 7.5\n",
            "2020-05-08 18:35:41.263656: I tensorflow/stream_executor/cuda/cuda_gpu_executor.cc:981] successful NUMA node read from SysFS had negative value (-1), but there must be at least one NUMA node, so returning NUMA node zero\n",
            "2020-05-08 18:35:41.264262: I tensorflow/core/common_runtime/gpu/gpu_device.cc:1561] Found device 0 with properties: \n",
            "pciBusID: 0000:00:04.0 name: Tesla T4 computeCapability: 7.5\n",
            "coreClock: 1.59GHz coreCount: 40 deviceMemorySize: 14.73GiB deviceMemoryBandwidth: 298.08GiB/s\n",
            "2020-05-08 18:35:41.264344: I tensorflow/stream_executor/platform/default/dso_loader.cc:44] Successfully opened dynamic library libcudart.so.10.1\n",
            "2020-05-08 18:35:41.264419: I tensorflow/stream_executor/platform/default/dso_loader.cc:44] Successfully opened dynamic library libcublas.so.10\n",
            "2020-05-08 18:35:41.264456: I tensorflow/stream_executor/platform/default/dso_loader.cc:44] Successfully opened dynamic library libcufft.so.10\n",
            "2020-05-08 18:35:41.264504: I tensorflow/stream_executor/platform/default/dso_loader.cc:44] Successfully opened dynamic library libcurand.so.10\n",
            "2020-05-08 18:35:41.264537: I tensorflow/stream_executor/platform/default/dso_loader.cc:44] Successfully opened dynamic library libcusolver.so.10\n",
            "2020-05-08 18:35:41.264569: I tensorflow/stream_executor/platform/default/dso_loader.cc:44] Successfully opened dynamic library libcusparse.so.10\n",
            "2020-05-08 18:35:41.264600: I tensorflow/stream_executor/platform/default/dso_loader.cc:44] Successfully opened dynamic library libcudnn.so.7\n",
            "2020-05-08 18:35:41.264702: I tensorflow/stream_executor/cuda/cuda_gpu_executor.cc:981] successful NUMA node read from SysFS had negative value (-1), but there must be at least one NUMA node, so returning NUMA node zero\n",
            "2020-05-08 18:35:41.265360: I tensorflow/stream_executor/cuda/cuda_gpu_executor.cc:981] successful NUMA node read from SysFS had negative value (-1), but there must be at least one NUMA node, so returning NUMA node zero\n",
            "2020-05-08 18:35:41.265935: I tensorflow/core/common_runtime/gpu/gpu_device.cc:1703] Adding visible gpu devices: 0\n",
            "2020-05-08 18:35:41.269541: I tensorflow/stream_executor/platform/default/dso_loader.cc:44] Successfully opened dynamic library libcudart.so.10.1\n",
            "2020-05-08 18:35:48.082818: I tensorflow/core/common_runtime/gpu/gpu_device.cc:1102] Device interconnect StreamExecutor with strength 1 edge matrix:\n",
            "2020-05-08 18:35:48.082877: I tensorflow/core/common_runtime/gpu/gpu_device.cc:1108]      0 \n",
            "2020-05-08 18:35:48.082891: I tensorflow/core/common_runtime/gpu/gpu_device.cc:1121] 0:   N \n",
            "2020-05-08 18:35:48.088549: I tensorflow/stream_executor/cuda/cuda_gpu_executor.cc:981] successful NUMA node read from SysFS had negative value (-1), but there must be at least one NUMA node, so returning NUMA node zero\n",
            "2020-05-08 18:35:48.089167: I tensorflow/stream_executor/cuda/cuda_gpu_executor.cc:981] successful NUMA node read from SysFS had negative value (-1), but there must be at least one NUMA node, so returning NUMA node zero\n",
            "2020-05-08 18:35:48.089705: W tensorflow/core/common_runtime/gpu/gpu_bfc_allocator.cc:39] Overriding allow_growth setting because the TF_FORCE_GPU_ALLOW_GROWTH environment variable is set. Original config value was 0.\n",
            "2020-05-08 18:35:48.089751: I tensorflow/core/common_runtime/gpu/gpu_device.cc:1247] Created TensorFlow device (/job:localhost/replica:0/task:0/device:GPU:0 with 13970 MB memory) -> physical GPU (device: 0, name: Tesla T4, pci bus id: 0000:00:04.0, compute capability: 7.5)\n",
            "2020-05-08 18:35:50.360971: I tensorflow/stream_executor/platform/default/dso_loader.cc:44] Successfully opened dynamic library libcudnn.so.7\n",
            "2020-05-08 18:35:55.377697: I tensorflow/stream_executor/platform/default/dso_loader.cc:44] Successfully opened dynamic library libcublas.so.10\n",
            "../DATASET/1579442319_200119_0854_SCAN_day/1579442055_KCAM001.ts 5\n"
          ],
          "name": "stdout"
        }
      ]
    },
    {
      "cell_type": "code",
      "metadata": {
        "id": "phYvgxGzzrVw",
        "colab_type": "code",
        "outputId": "5cec3f3b-3314-4ebe-ab89-26d06ee4281d",
        "colab": {
          "base_uri": "https://localhost:8080/",
          "height": 34
        }
      },
      "source": [
        "cd DATASET/"
      ],
      "execution_count": 0,
      "outputs": [
        {
          "output_type": "stream",
          "text": [
            "/content/gdrive/.shortcut-targets-by-id/1GNkzzPvawhJiNlmrqYMtCj7o01bwjZ0l/_SHARED-UD-TRAFFIC/DATASET\n"
          ],
          "name": "stdout"
        }
      ]
    },
    {
      "cell_type": "code",
      "metadata": {
        "id": "J65PrlhYyaS9",
        "colab_type": "code",
        "outputId": "529542e7-40a0-4b9a-eb86-bd6f51bb06ec",
        "colab": {
          "base_uri": "https://localhost:8080/",
          "height": 34
        }
      },
      "source": [
        "!find ../READ-WRITE-AREA/ -maxdepth 1 -mindepth 1 -type d -exec du -hs {} \\; | sort -hr"
      ],
      "execution_count": 0,
      "outputs": [
        {
          "output_type": "stream",
          "text": [
            "^C\n"
          ],
          "name": "stdout"
        }
      ]
    },
    {
      "cell_type": "code",
      "metadata": {
        "id": "nmWHYweVyaVt",
        "colab_type": "code",
        "outputId": "3c7c62d5-3783-47b4-e48b-b8612b1b2534",
        "colab": {
          "base_uri": "https://localhost:8080/",
          "height": 102
        }
      },
      "source": [
        "ls ../READ-WRITE-AREA/ -lh"
      ],
      "execution_count": 0,
      "outputs": [
        {
          "output_type": "stream",
          "text": [
            "total 10K\n",
            "drwx------ 5 root root 4.0K May  8 15:49  \u001b[0m\u001b[01;34mcovid19hackathon2020\u001b[0m/\n",
            "drwx------ 2 root root 4.0K May  8 16:08 \u001b[01;34m'covid19hackathon2020 (1)'\u001b[0m/\n",
            "-rw------- 1 root root 1.3K May  8 14:56  COVID19_TRAFFIC_TEST.ipynb\n",
            "-rw------- 1 root root  151 May  7 20:05  README.gdoc\n"
          ],
          "name": "stdout"
        }
      ]
    },
    {
      "cell_type": "code",
      "metadata": {
        "id": "LlPJbiA0yaYE",
        "colab_type": "code",
        "outputId": "8e23cbe6-a87a-4a8e-afda-7ce9e534e2c2",
        "colab": {
          "base_uri": "https://localhost:8080/",
          "height": 85
        }
      },
      "source": [
        "ls"
      ],
      "execution_count": 0,
      "outputs": [
        {
          "output_type": "stream",
          "text": [
            " \u001b[0m\u001b[01;34m1579442319_200119_0854_SCAN_day\u001b[0m/    'PROPOSAL #HACK-TRAFFIC.gdoc'\n",
            " \u001b[01;34m1579478048_200119-1854_SCAN_night\u001b[0m/   \u001b[01;34mSCANS\u001b[0m/\n",
            " \u001b[01;34m1579521125_200120-0654_SCAN_dawn\u001b[0m/   '_WHY VIDEO FILES HAVE .ts EXTENSION.gdoc'\n",
            "'#hack-traffic-pitch.pptx'\n"
          ],
          "name": "stdout"
        }
      ]
    },
    {
      "cell_type": "code",
      "metadata": {
        "id": "BYOw58eHyaak",
        "colab_type": "code",
        "outputId": "812b931c-4a55-4d6f-af2e-5a0a907c1f37",
        "colab": {
          "base_uri": "https://localhost:8080/",
          "height": 34
        }
      },
      "source": [
        "cd ../READ-WRITE-AREA/covid19hackathon2020/"
      ],
      "execution_count": 0,
      "outputs": [
        {
          "output_type": "stream",
          "text": [
            "/content/gdrive/.shortcut-targets-by-id/1GNkzzPvawhJiNlmrqYMtCj7o01bwjZ0l/_SHARED-UD-TRAFFIC/READ-WRITE-AREA/covid19hackathon2020\n"
          ],
          "name": "stdout"
        }
      ]
    },
    {
      "cell_type": "code",
      "metadata": {
        "id": "7Ilr-lbkyade",
        "colab_type": "code",
        "outputId": "fd58bf72-0e2d-4f28-9ed5-0275faab13aa",
        "colab": {
          "base_uri": "https://localhost:8080/",
          "height": 34
        }
      },
      "source": [
        "ls"
      ],
      "execution_count": 0,
      "outputs": [
        {
          "output_type": "stream",
          "text": [
            "\u001b[0m\u001b[01;34mcocoapi\u001b[0m/  \u001b[01;34mmodels\u001b[0m/  \u001b[01;34mobjectCounting\u001b[0m/\n"
          ],
          "name": "stdout"
        }
      ]
    },
    {
      "cell_type": "code",
      "metadata": {
        "id": "7CI184dJGJKE",
        "colab_type": "code",
        "outputId": "0aaa0be5-d6ff-4870-e72d-42974c055fef",
        "colab": {
          "base_uri": "https://localhost:8080/",
          "height": 170
        }
      },
      "source": [
        "pwd"
      ],
      "execution_count": 0,
      "outputs": [
        {
          "output_type": "stream",
          "text": [
            "cocoapi/:\n",
            "\u001b[0m\u001b[01;34mcommon\u001b[0m/  license.txt  \u001b[01;34mLuaAPI\u001b[0m/  \u001b[01;34mMatlabAPI\u001b[0m/  \u001b[01;34mPythonAPI\u001b[0m/  README.txt  \u001b[01;34mresults\u001b[0m/\n",
            "\n",
            "models/:\n",
            "AUTHORS     \u001b[01;34mcommunity\u001b[0m/       ISSUES.md  \u001b[01;34mofficial\u001b[0m/  \u001b[01;34mresearch\u001b[0m/\n",
            "CODEOWNERS  CONTRIBUTING.md  LICENSE    README.md  WORKSPACE\n",
            "\n",
            "objectCounting/:\n",
            "\u001b[01;34mtensorflow_object_counting_api\u001b[0m/  \u001b[01;34mvehicle_counting_tensorflow\u001b[0m/\n"
          ],
          "name": "stdout"
        }
      ]
    },
    {
      "cell_type": "code",
      "metadata": {
        "id": "b2RvcYL_GLMb",
        "colab_type": "code",
        "colab": {}
      },
      "source": [
        ""
      ],
      "execution_count": 0,
      "outputs": []
    },
    {
      "cell_type": "code",
      "metadata": {
        "id": "030cFTaRHdPd",
        "colab_type": "code",
        "outputId": "c47bde60-3c43-4808-f275-b765ed5f607c",
        "colab": {
          "base_uri": "https://localhost:8080/",
          "height": 34
        }
      },
      "source": [
        "cd cocoapi/PythonAPI/"
      ],
      "execution_count": 0,
      "outputs": [
        {
          "output_type": "stream",
          "text": [
            "/content/gdrive/.shortcut-targets-by-id/1GNkzzPvawhJiNlmrqYMtCj7o01bwjZ0l/_SHARED-UD-TRAFFIC/READ-WRITE-AREA/covid19hackathon2020/cocoapi/PythonAPI\n"
          ],
          "name": "stdout"
        }
      ]
    },
    {
      "cell_type": "code",
      "metadata": {
        "id": "1NtF_R7xINFJ",
        "colab_type": "code",
        "outputId": "7d2c048b-7223-4546-aacf-ce2437d9f941",
        "colab": {
          "base_uri": "https://localhost:8080/",
          "height": 34
        }
      },
      "source": [
        "ls"
      ],
      "execution_count": 0,
      "outputs": [
        {
          "output_type": "stream",
          "text": [
            "Makefile  pycocoDemo.ipynb  pycocoEvalDemo.ipynb  \u001b[0m\u001b[01;34mpycocotools\u001b[0m/  setup.py\n"
          ],
          "name": "stdout"
        }
      ]
    },
    {
      "cell_type": "code",
      "metadata": {
        "id": "KQbSlr6AINdn",
        "colab_type": "code",
        "outputId": "c80d7ccb-be1b-4648-98c0-07607c1e5d7e",
        "colab": {
          "base_uri": "https://localhost:8080/",
          "height": 1000
        }
      },
      "source": [
        "!make"
      ],
      "execution_count": 0,
      "outputs": [
        {
          "output_type": "stream",
          "text": [
            "python setup.py build_ext --inplace\n",
            "running build_ext\n",
            "skipping 'pycocotools/_mask.c' Cython extension (up-to-date)\n",
            "building 'pycocotools._mask' extension\n",
            "creating build\n",
            "creating build/common\n",
            "creating build/temp.linux-x86_64-3.6\n",
            "creating build/temp.linux-x86_64-3.6/pycocotools\n",
            "x86_64-linux-gnu-gcc -pthread -DNDEBUG -g -fwrapv -O2 -Wall -g -fstack-protector-strong -Wformat -Werror=format-security -Wdate-time -D_FORTIFY_SOURCE=2 -fPIC -I/usr/local/lib/python3.6/dist-packages/numpy/core/include -I../common -I/usr/include/python3.6m -c ../common/maskApi.c -o build/temp.linux-x86_64-3.6/../common/maskApi.o -Wno-cpp -Wno-unused-function -std=c99\n",
            "\u001b[01m\u001b[K../common/maskApi.c:\u001b[m\u001b[K In function ‘\u001b[01m\u001b[KrleDecode\u001b[m\u001b[K’:\n",
            "\u001b[01m\u001b[K../common/maskApi.c:46:7:\u001b[m\u001b[K \u001b[01;35m\u001b[Kwarning: \u001b[m\u001b[Kthis ‘\u001b[01m\u001b[Kfor\u001b[m\u001b[K’ clause does not guard... [\u001b[01;35m\u001b[K-Wmisleading-indentation\u001b[m\u001b[K]\n",
            "       \u001b[01;35m\u001b[Kfor\u001b[m\u001b[K( k=0; k<R[i].cnts[j]; k++ ) *(M++)=v; v=!v; }}\n",
            "       \u001b[01;35m\u001b[K^~~\u001b[m\u001b[K\n",
            "\u001b[01m\u001b[K../common/maskApi.c:46:49:\u001b[m\u001b[K \u001b[01;36m\u001b[Knote: \u001b[m\u001b[K...this statement, but the latter is misleadingly indented as if it were guarded by the ‘\u001b[01m\u001b[Kfor\u001b[m\u001b[K’\n",
            "       for( k=0; k<R[i].cnts[j]; k++ ) *(M++)=v; \u001b[01;36m\u001b[Kv\u001b[m\u001b[K=!v; }}\n",
            "                                                 \u001b[01;36m\u001b[K^\u001b[m\u001b[K\n",
            "\u001b[01m\u001b[K../common/maskApi.c:\u001b[m\u001b[K In function ‘\u001b[01m\u001b[KrleFrPoly\u001b[m\u001b[K’:\n",
            "\u001b[01m\u001b[K../common/maskApi.c:166:3:\u001b[m\u001b[K \u001b[01;35m\u001b[Kwarning: \u001b[m\u001b[Kthis ‘\u001b[01m\u001b[Kfor\u001b[m\u001b[K’ clause does not guard... [\u001b[01;35m\u001b[K-Wmisleading-indentation\u001b[m\u001b[K]\n",
            "   \u001b[01;35m\u001b[Kfor\u001b[m\u001b[K(j=0; j<k; j++) x[j]=(int)(scale*xy[j*2+0]+.5); x[k]=x[0];\n",
            "   \u001b[01;35m\u001b[K^~~\u001b[m\u001b[K\n",
            "\u001b[01m\u001b[K../common/maskApi.c:166:54:\u001b[m\u001b[K \u001b[01;36m\u001b[Knote: \u001b[m\u001b[K...this statement, but the latter is misleadingly indented as if it were guarded by the ‘\u001b[01m\u001b[Kfor\u001b[m\u001b[K’\n",
            "   for(j=0; j<k; j++) x[j]=(int)(scale*xy[j*2+0]+.5); \u001b[01;36m\u001b[Kx\u001b[m\u001b[K[k]=x[0];\n",
            "                                                      \u001b[01;36m\u001b[K^\u001b[m\u001b[K\n",
            "\u001b[01m\u001b[K../common/maskApi.c:167:3:\u001b[m\u001b[K \u001b[01;35m\u001b[Kwarning: \u001b[m\u001b[Kthis ‘\u001b[01m\u001b[Kfor\u001b[m\u001b[K’ clause does not guard... [\u001b[01;35m\u001b[K-Wmisleading-indentation\u001b[m\u001b[K]\n",
            "   \u001b[01;35m\u001b[Kfor\u001b[m\u001b[K(j=0; j<k; j++) y[j]=(int)(scale*xy[j*2+1]+.5); y[k]=y[0];\n",
            "   \u001b[01;35m\u001b[K^~~\u001b[m\u001b[K\n",
            "\u001b[01m\u001b[K../common/maskApi.c:167:54:\u001b[m\u001b[K \u001b[01;36m\u001b[Knote: \u001b[m\u001b[K...this statement, but the latter is misleadingly indented as if it were guarded by the ‘\u001b[01m\u001b[Kfor\u001b[m\u001b[K’\n",
            "   for(j=0; j<k; j++) y[j]=(int)(scale*xy[j*2+1]+.5); \u001b[01;36m\u001b[Ky\u001b[m\u001b[K[k]=y[0];\n",
            "                                                      \u001b[01;36m\u001b[K^\u001b[m\u001b[K\n",
            "\u001b[01m\u001b[K../common/maskApi.c:\u001b[m\u001b[K In function ‘\u001b[01m\u001b[KrleToString\u001b[m\u001b[K’:\n",
            "\u001b[01m\u001b[K../common/maskApi.c:212:7:\u001b[m\u001b[K \u001b[01;35m\u001b[Kwarning: \u001b[m\u001b[Kthis ‘\u001b[01m\u001b[Kif\u001b[m\u001b[K’ clause does not guard... [\u001b[01;35m\u001b[K-Wmisleading-indentation\u001b[m\u001b[K]\n",
            "       \u001b[01;35m\u001b[Kif\u001b[m\u001b[K(more) c |= 0x20; c+=48; s[p++]=c;\n",
            "       \u001b[01;35m\u001b[K^~\u001b[m\u001b[K\n",
            "\u001b[01m\u001b[K../common/maskApi.c:212:27:\u001b[m\u001b[K \u001b[01;36m\u001b[Knote: \u001b[m\u001b[K...this statement, but the latter is misleadingly indented as if it were guarded by the ‘\u001b[01m\u001b[Kif\u001b[m\u001b[K’\n",
            "       if(more) c |= 0x20; \u001b[01;36m\u001b[Kc\u001b[m\u001b[K+=48; s[p++]=c;\n",
            "                           \u001b[01;36m\u001b[K^\u001b[m\u001b[K\n",
            "\u001b[01m\u001b[K../common/maskApi.c:\u001b[m\u001b[K In function ‘\u001b[01m\u001b[KrleFrString\u001b[m\u001b[K’:\n",
            "\u001b[01m\u001b[K../common/maskApi.c:220:3:\u001b[m\u001b[K \u001b[01;35m\u001b[Kwarning: \u001b[m\u001b[Kthis ‘\u001b[01m\u001b[Kwhile\u001b[m\u001b[K’ clause does not guard... [\u001b[01;35m\u001b[K-Wmisleading-indentation\u001b[m\u001b[K]\n",
            "   \u001b[01;35m\u001b[Kwhile\u001b[m\u001b[K( s[m] ) m++; cnts=malloc(sizeof(uint)*m); m=0;\n",
            "   \u001b[01;35m\u001b[K^~~~~\u001b[m\u001b[K\n",
            "\u001b[01m\u001b[K../common/maskApi.c:220:22:\u001b[m\u001b[K \u001b[01;36m\u001b[Knote: \u001b[m\u001b[K...this statement, but the latter is misleadingly indented as if it were guarded by the ‘\u001b[01m\u001b[Kwhile\u001b[m\u001b[K’\n",
            "   while( s[m] ) m++; \u001b[01;36m\u001b[Kcnts\u001b[m\u001b[K=malloc(sizeof(uint)*m); m=0;\n",
            "                      \u001b[01;36m\u001b[K^~~~\u001b[m\u001b[K\n",
            "\u001b[01m\u001b[K../common/maskApi.c:228:5:\u001b[m\u001b[K \u001b[01;35m\u001b[Kwarning: \u001b[m\u001b[Kthis ‘\u001b[01m\u001b[Kif\u001b[m\u001b[K’ clause does not guard... [\u001b[01;35m\u001b[K-Wmisleading-indentation\u001b[m\u001b[K]\n",
            "     \u001b[01;35m\u001b[Kif\u001b[m\u001b[K(m>2) x+=(long) cnts[m-2]; cnts[m++]=(uint) x;\n",
            "     \u001b[01;35m\u001b[K^~\u001b[m\u001b[K\n",
            "\u001b[01m\u001b[K../common/maskApi.c:228:34:\u001b[m\u001b[K \u001b[01;36m\u001b[Knote: \u001b[m\u001b[K...this statement, but the latter is misleadingly indented as if it were guarded by the ‘\u001b[01m\u001b[Kif\u001b[m\u001b[K’\n",
            "     if(m>2) x+=(long) cnts[m-2]; \u001b[01;36m\u001b[Kcnts\u001b[m\u001b[K[m++]=(uint) x;\n",
            "                                  \u001b[01;36m\u001b[K^~~~\u001b[m\u001b[K\n",
            "\u001b[01m\u001b[K../common/maskApi.c:\u001b[m\u001b[K In function ‘\u001b[01m\u001b[KrleToBbox\u001b[m\u001b[K’:\n",
            "\u001b[01m\u001b[K../common/maskApi.c:141:31:\u001b[m\u001b[K \u001b[01;35m\u001b[Kwarning: \u001b[m\u001b[K‘\u001b[01m\u001b[Kxp\u001b[m\u001b[K’ may be used uninitialized in this function [\u001b[01;35m\u001b[K-Wmaybe-uninitialized\u001b[m\u001b[K]\n",
            "       if(j%2==0) xp=x; else if\u001b[01;35m\u001b[K(\u001b[m\u001b[Kxp<x) { ys=0; ye=h-1; }\n",
            "                               \u001b[01;35m\u001b[K^\u001b[m\u001b[K\n",
            "x86_64-linux-gnu-gcc -pthread -DNDEBUG -g -fwrapv -O2 -Wall -g -fstack-protector-strong -Wformat -Werror=format-security -Wdate-time -D_FORTIFY_SOURCE=2 -fPIC -I/usr/local/lib/python3.6/dist-packages/numpy/core/include -I../common -I/usr/include/python3.6m -c pycocotools/_mask.c -o build/temp.linux-x86_64-3.6/pycocotools/_mask.o -Wno-cpp -Wno-unused-function -std=c99\n",
            "creating build/lib.linux-x86_64-3.6\n",
            "creating build/lib.linux-x86_64-3.6/pycocotools\n",
            "x86_64-linux-gnu-gcc -pthread -shared -Wl,-O1 -Wl,-Bsymbolic-functions -Wl,-Bsymbolic-functions -Wl,-z,relro -Wl,-Bsymbolic-functions -Wl,-z,relro -g -fstack-protector-strong -Wformat -Werror=format-security -Wdate-time -D_FORTIFY_SOURCE=2 build/temp.linux-x86_64-3.6/../common/maskApi.o build/temp.linux-x86_64-3.6/pycocotools/_mask.o -o build/lib.linux-x86_64-3.6/pycocotools/_mask.cpython-36m-x86_64-linux-gnu.so\n",
            "copying build/lib.linux-x86_64-3.6/pycocotools/_mask.cpython-36m-x86_64-linux-gnu.so -> pycocotools\n",
            "rm -rf build\n"
          ],
          "name": "stdout"
        }
      ]
    },
    {
      "cell_type": "code",
      "metadata": {
        "id": "WvXyj1zSIQYx",
        "colab_type": "code",
        "outputId": "9a443d83-4e52-492d-b837-c4a191640b79",
        "colab": {
          "base_uri": "https://localhost:8080/",
          "height": 34
        }
      },
      "source": [
        "ls"
      ],
      "execution_count": 0,
      "outputs": [
        {
          "output_type": "stream",
          "text": [
            "Makefile  pycocoDemo.ipynb  pycocoEvalDemo.ipynb  \u001b[0m\u001b[01;34mpycocotools\u001b[0m/  setup.py\n"
          ],
          "name": "stdout"
        }
      ]
    },
    {
      "cell_type": "code",
      "metadata": {
        "id": "EtDqNKk0JR9G",
        "colab_type": "code",
        "outputId": "93d221b7-1e42-4012-9d05-fd1e7e679d77",
        "colab": {
          "base_uri": "https://localhost:8080/",
          "height": 1000
        }
      },
      "source": [
        "!python setup.py build_ext install"
      ],
      "execution_count": 0,
      "outputs": [
        {
          "output_type": "stream",
          "text": [
            "running build_ext\n",
            "skipping 'pycocotools/_mask.c' Cython extension (up-to-date)\n",
            "building 'pycocotools._mask' extension\n",
            "creating build\n",
            "creating build/common\n",
            "creating build/temp.linux-x86_64-3.6\n",
            "creating build/temp.linux-x86_64-3.6/pycocotools\n",
            "x86_64-linux-gnu-gcc -pthread -DNDEBUG -g -fwrapv -O2 -Wall -g -fstack-protector-strong -Wformat -Werror=format-security -Wdate-time -D_FORTIFY_SOURCE=2 -fPIC -I/usr/local/lib/python3.6/dist-packages/numpy/core/include -I../common -I/usr/include/python3.6m -c ../common/maskApi.c -o build/temp.linux-x86_64-3.6/../common/maskApi.o -Wno-cpp -Wno-unused-function -std=c99\n",
            "\u001b[01m\u001b[K../common/maskApi.c:\u001b[m\u001b[K In function ‘\u001b[01m\u001b[KrleDecode\u001b[m\u001b[K’:\n",
            "\u001b[01m\u001b[K../common/maskApi.c:46:7:\u001b[m\u001b[K \u001b[01;35m\u001b[Kwarning: \u001b[m\u001b[Kthis ‘\u001b[01m\u001b[Kfor\u001b[m\u001b[K’ clause does not guard... [\u001b[01;35m\u001b[K-Wmisleading-indentation\u001b[m\u001b[K]\n",
            "       \u001b[01;35m\u001b[Kfor\u001b[m\u001b[K( k=0; k<R[i].cnts[j]; k++ ) *(M++)=v; v=!v; }}\n",
            "       \u001b[01;35m\u001b[K^~~\u001b[m\u001b[K\n",
            "\u001b[01m\u001b[K../common/maskApi.c:46:49:\u001b[m\u001b[K \u001b[01;36m\u001b[Knote: \u001b[m\u001b[K...this statement, but the latter is misleadingly indented as if it were guarded by the ‘\u001b[01m\u001b[Kfor\u001b[m\u001b[K’\n",
            "       for( k=0; k<R[i].cnts[j]; k++ ) *(M++)=v; \u001b[01;36m\u001b[Kv\u001b[m\u001b[K=!v; }}\n",
            "                                                 \u001b[01;36m\u001b[K^\u001b[m\u001b[K\n",
            "\u001b[01m\u001b[K../common/maskApi.c:\u001b[m\u001b[K In function ‘\u001b[01m\u001b[KrleFrPoly\u001b[m\u001b[K’:\n",
            "\u001b[01m\u001b[K../common/maskApi.c:166:3:\u001b[m\u001b[K \u001b[01;35m\u001b[Kwarning: \u001b[m\u001b[Kthis ‘\u001b[01m\u001b[Kfor\u001b[m\u001b[K’ clause does not guard... [\u001b[01;35m\u001b[K-Wmisleading-indentation\u001b[m\u001b[K]\n",
            "   \u001b[01;35m\u001b[Kfor\u001b[m\u001b[K(j=0; j<k; j++) x[j]=(int)(scale*xy[j*2+0]+.5); x[k]=x[0];\n",
            "   \u001b[01;35m\u001b[K^~~\u001b[m\u001b[K\n",
            "\u001b[01m\u001b[K../common/maskApi.c:166:54:\u001b[m\u001b[K \u001b[01;36m\u001b[Knote: \u001b[m\u001b[K...this statement, but the latter is misleadingly indented as if it were guarded by the ‘\u001b[01m\u001b[Kfor\u001b[m\u001b[K’\n",
            "   for(j=0; j<k; j++) x[j]=(int)(scale*xy[j*2+0]+.5); \u001b[01;36m\u001b[Kx\u001b[m\u001b[K[k]=x[0];\n",
            "                                                      \u001b[01;36m\u001b[K^\u001b[m\u001b[K\n",
            "\u001b[01m\u001b[K../common/maskApi.c:167:3:\u001b[m\u001b[K \u001b[01;35m\u001b[Kwarning: \u001b[m\u001b[Kthis ‘\u001b[01m\u001b[Kfor\u001b[m\u001b[K’ clause does not guard... [\u001b[01;35m\u001b[K-Wmisleading-indentation\u001b[m\u001b[K]\n",
            "   \u001b[01;35m\u001b[Kfor\u001b[m\u001b[K(j=0; j<k; j++) y[j]=(int)(scale*xy[j*2+1]+.5); y[k]=y[0];\n",
            "   \u001b[01;35m\u001b[K^~~\u001b[m\u001b[K\n",
            "\u001b[01m\u001b[K../common/maskApi.c:167:54:\u001b[m\u001b[K \u001b[01;36m\u001b[Knote: \u001b[m\u001b[K...this statement, but the latter is misleadingly indented as if it were guarded by the ‘\u001b[01m\u001b[Kfor\u001b[m\u001b[K’\n",
            "   for(j=0; j<k; j++) y[j]=(int)(scale*xy[j*2+1]+.5); \u001b[01;36m\u001b[Ky\u001b[m\u001b[K[k]=y[0];\n",
            "                                                      \u001b[01;36m\u001b[K^\u001b[m\u001b[K\n",
            "\u001b[01m\u001b[K../common/maskApi.c:\u001b[m\u001b[K In function ‘\u001b[01m\u001b[KrleToString\u001b[m\u001b[K’:\n",
            "\u001b[01m\u001b[K../common/maskApi.c:212:7:\u001b[m\u001b[K \u001b[01;35m\u001b[Kwarning: \u001b[m\u001b[Kthis ‘\u001b[01m\u001b[Kif\u001b[m\u001b[K’ clause does not guard... [\u001b[01;35m\u001b[K-Wmisleading-indentation\u001b[m\u001b[K]\n",
            "       \u001b[01;35m\u001b[Kif\u001b[m\u001b[K(more) c |= 0x20; c+=48; s[p++]=c;\n",
            "       \u001b[01;35m\u001b[K^~\u001b[m\u001b[K\n",
            "\u001b[01m\u001b[K../common/maskApi.c:212:27:\u001b[m\u001b[K \u001b[01;36m\u001b[Knote: \u001b[m\u001b[K...this statement, but the latter is misleadingly indented as if it were guarded by the ‘\u001b[01m\u001b[Kif\u001b[m\u001b[K’\n",
            "       if(more) c |= 0x20; \u001b[01;36m\u001b[Kc\u001b[m\u001b[K+=48; s[p++]=c;\n",
            "                           \u001b[01;36m\u001b[K^\u001b[m\u001b[K\n",
            "\u001b[01m\u001b[K../common/maskApi.c:\u001b[m\u001b[K In function ‘\u001b[01m\u001b[KrleFrString\u001b[m\u001b[K’:\n",
            "\u001b[01m\u001b[K../common/maskApi.c:220:3:\u001b[m\u001b[K \u001b[01;35m\u001b[Kwarning: \u001b[m\u001b[Kthis ‘\u001b[01m\u001b[Kwhile\u001b[m\u001b[K’ clause does not guard... [\u001b[01;35m\u001b[K-Wmisleading-indentation\u001b[m\u001b[K]\n",
            "   \u001b[01;35m\u001b[Kwhile\u001b[m\u001b[K( s[m] ) m++; cnts=malloc(sizeof(uint)*m); m=0;\n",
            "   \u001b[01;35m\u001b[K^~~~~\u001b[m\u001b[K\n",
            "\u001b[01m\u001b[K../common/maskApi.c:220:22:\u001b[m\u001b[K \u001b[01;36m\u001b[Knote: \u001b[m\u001b[K...this statement, but the latter is misleadingly indented as if it were guarded by the ‘\u001b[01m\u001b[Kwhile\u001b[m\u001b[K’\n",
            "   while( s[m] ) m++; \u001b[01;36m\u001b[Kcnts\u001b[m\u001b[K=malloc(sizeof(uint)*m); m=0;\n",
            "                      \u001b[01;36m\u001b[K^~~~\u001b[m\u001b[K\n",
            "\u001b[01m\u001b[K../common/maskApi.c:228:5:\u001b[m\u001b[K \u001b[01;35m\u001b[Kwarning: \u001b[m\u001b[Kthis ‘\u001b[01m\u001b[Kif\u001b[m\u001b[K’ clause does not guard... [\u001b[01;35m\u001b[K-Wmisleading-indentation\u001b[m\u001b[K]\n",
            "     \u001b[01;35m\u001b[Kif\u001b[m\u001b[K(m>2) x+=(long) cnts[m-2]; cnts[m++]=(uint) x;\n",
            "     \u001b[01;35m\u001b[K^~\u001b[m\u001b[K\n",
            "\u001b[01m\u001b[K../common/maskApi.c:228:34:\u001b[m\u001b[K \u001b[01;36m\u001b[Knote: \u001b[m\u001b[K...this statement, but the latter is misleadingly indented as if it were guarded by the ‘\u001b[01m\u001b[Kif\u001b[m\u001b[K’\n",
            "     if(m>2) x+=(long) cnts[m-2]; \u001b[01;36m\u001b[Kcnts\u001b[m\u001b[K[m++]=(uint) x;\n",
            "                                  \u001b[01;36m\u001b[K^~~~\u001b[m\u001b[K\n",
            "\u001b[01m\u001b[K../common/maskApi.c:\u001b[m\u001b[K In function ‘\u001b[01m\u001b[KrleToBbox\u001b[m\u001b[K’:\n",
            "\u001b[01m\u001b[K../common/maskApi.c:141:31:\u001b[m\u001b[K \u001b[01;35m\u001b[Kwarning: \u001b[m\u001b[K‘\u001b[01m\u001b[Kxp\u001b[m\u001b[K’ may be used uninitialized in this function [\u001b[01;35m\u001b[K-Wmaybe-uninitialized\u001b[m\u001b[K]\n",
            "       if(j%2==0) xp=x; else if\u001b[01;35m\u001b[K(\u001b[m\u001b[Kxp<x) { ys=0; ye=h-1; }\n",
            "                               \u001b[01;35m\u001b[K^\u001b[m\u001b[K\n",
            "x86_64-linux-gnu-gcc -pthread -DNDEBUG -g -fwrapv -O2 -Wall -g -fstack-protector-strong -Wformat -Werror=format-security -Wdate-time -D_FORTIFY_SOURCE=2 -fPIC -I/usr/local/lib/python3.6/dist-packages/numpy/core/include -I../common -I/usr/include/python3.6m -c pycocotools/_mask.c -o build/temp.linux-x86_64-3.6/pycocotools/_mask.o -Wno-cpp -Wno-unused-function -std=c99\n",
            "creating build/lib.linux-x86_64-3.6\n",
            "creating build/lib.linux-x86_64-3.6/pycocotools\n",
            "x86_64-linux-gnu-gcc -pthread -shared -Wl,-O1 -Wl,-Bsymbolic-functions -Wl,-Bsymbolic-functions -Wl,-z,relro -Wl,-Bsymbolic-functions -Wl,-z,relro -g -fstack-protector-strong -Wformat -Werror=format-security -Wdate-time -D_FORTIFY_SOURCE=2 build/temp.linux-x86_64-3.6/../common/maskApi.o build/temp.linux-x86_64-3.6/pycocotools/_mask.o -o build/lib.linux-x86_64-3.6/pycocotools/_mask.cpython-36m-x86_64-linux-gnu.so\n",
            "running install\n",
            "running bdist_egg\n",
            "running egg_info\n",
            "creating pycocotools.egg-info\n",
            "writing pycocotools.egg-info/PKG-INFO\n",
            "writing dependency_links to pycocotools.egg-info/dependency_links.txt\n",
            "writing requirements to pycocotools.egg-info/requires.txt\n",
            "writing top-level names to pycocotools.egg-info/top_level.txt\n",
            "writing manifest file 'pycocotools.egg-info/SOURCES.txt'\n",
            "writing manifest file 'pycocotools.egg-info/SOURCES.txt'\n",
            "installing library code to build/bdist.linux-x86_64/egg\n",
            "running install_lib\n",
            "running build_py\n",
            "copying pycocotools/mask.py -> build/lib.linux-x86_64-3.6/pycocotools\n",
            "copying pycocotools/__init__.py -> build/lib.linux-x86_64-3.6/pycocotools\n",
            "copying pycocotools/cocoeval.py -> build/lib.linux-x86_64-3.6/pycocotools\n",
            "copying pycocotools/coco.py -> build/lib.linux-x86_64-3.6/pycocotools\n",
            "creating build/bdist.linux-x86_64\n",
            "creating build/bdist.linux-x86_64/egg\n",
            "creating build/bdist.linux-x86_64/egg/pycocotools\n",
            "copying build/lib.linux-x86_64-3.6/pycocotools/_mask.cpython-36m-x86_64-linux-gnu.so -> build/bdist.linux-x86_64/egg/pycocotools\n",
            "copying build/lib.linux-x86_64-3.6/pycocotools/mask.py -> build/bdist.linux-x86_64/egg/pycocotools\n",
            "copying build/lib.linux-x86_64-3.6/pycocotools/__init__.py -> build/bdist.linux-x86_64/egg/pycocotools\n",
            "copying build/lib.linux-x86_64-3.6/pycocotools/cocoeval.py -> build/bdist.linux-x86_64/egg/pycocotools\n",
            "copying build/lib.linux-x86_64-3.6/pycocotools/coco.py -> build/bdist.linux-x86_64/egg/pycocotools\n",
            "byte-compiling build/bdist.linux-x86_64/egg/pycocotools/mask.py to mask.cpython-36.pyc\n",
            "byte-compiling build/bdist.linux-x86_64/egg/pycocotools/__init__.py to __init__.cpython-36.pyc\n",
            "byte-compiling build/bdist.linux-x86_64/egg/pycocotools/cocoeval.py to cocoeval.cpython-36.pyc\n",
            "byte-compiling build/bdist.linux-x86_64/egg/pycocotools/coco.py to coco.cpython-36.pyc\n",
            "creating stub loader for pycocotools/_mask.cpython-36m-x86_64-linux-gnu.so\n",
            "byte-compiling build/bdist.linux-x86_64/egg/pycocotools/_mask.py to _mask.cpython-36.pyc\n",
            "creating build/bdist.linux-x86_64/egg/EGG-INFO\n",
            "copying pycocotools.egg-info/PKG-INFO -> build/bdist.linux-x86_64/egg/EGG-INFO\n",
            "copying pycocotools.egg-info/SOURCES.txt -> build/bdist.linux-x86_64/egg/EGG-INFO\n",
            "copying pycocotools.egg-info/dependency_links.txt -> build/bdist.linux-x86_64/egg/EGG-INFO\n",
            "copying pycocotools.egg-info/requires.txt -> build/bdist.linux-x86_64/egg/EGG-INFO\n",
            "copying pycocotools.egg-info/top_level.txt -> build/bdist.linux-x86_64/egg/EGG-INFO\n",
            "writing build/bdist.linux-x86_64/egg/EGG-INFO/native_libs.txt\n",
            "zip_safe flag not set; analyzing archive contents...\n",
            "pycocotools.__pycache__._mask.cpython-36: module references __file__\n",
            "creating dist\n",
            "creating 'dist/pycocotools-2.0-py3.6-linux-x86_64.egg' and adding 'build/bdist.linux-x86_64/egg' to it\n",
            "removing 'build/bdist.linux-x86_64/egg' (and everything under it)\n",
            "Processing pycocotools-2.0-py3.6-linux-x86_64.egg\n",
            "creating /usr/local/lib/python3.6/dist-packages/pycocotools-2.0-py3.6-linux-x86_64.egg\n",
            "Extracting pycocotools-2.0-py3.6-linux-x86_64.egg to /usr/local/lib/python3.6/dist-packages\n",
            "Adding pycocotools 2.0 to easy-install.pth file\n",
            "\n",
            "Installed /usr/local/lib/python3.6/dist-packages/pycocotools-2.0-py3.6-linux-x86_64.egg\n",
            "Processing dependencies for pycocotools==2.0\n",
            "Searching for matplotlib==3.2.1\n",
            "Best match: matplotlib 3.2.1\n",
            "Adding matplotlib 3.2.1 to easy-install.pth file\n",
            "\n",
            "Using /usr/local/lib/python3.6/dist-packages\n",
            "Searching for Cython==0.29.17\n",
            "Best match: Cython 0.29.17\n",
            "Adding Cython 0.29.17 to easy-install.pth file\n",
            "Installing cygdb script to /usr/local/bin\n",
            "Installing cython script to /usr/local/bin\n",
            "Installing cythonize script to /usr/local/bin\n",
            "\n",
            "Using /usr/local/lib/python3.6/dist-packages\n",
            "Searching for setuptools==46.1.3\n",
            "Best match: setuptools 46.1.3\n",
            "Adding setuptools 46.1.3 to easy-install.pth file\n",
            "Installing easy_install script to /usr/local/bin\n",
            "Installing easy_install-3.8 script to /usr/local/bin\n",
            "\n",
            "Using /usr/local/lib/python3.6/dist-packages\n",
            "Searching for cycler==0.10.0\n",
            "Best match: cycler 0.10.0\n",
            "Adding cycler 0.10.0 to easy-install.pth file\n",
            "\n",
            "Using /usr/local/lib/python3.6/dist-packages\n",
            "Searching for numpy==1.18.3\n",
            "Best match: numpy 1.18.3\n",
            "Adding numpy 1.18.3 to easy-install.pth file\n",
            "Installing f2py script to /usr/local/bin\n",
            "Installing f2py3 script to /usr/local/bin\n",
            "Installing f2py3.6 script to /usr/local/bin\n",
            "\n",
            "Using /usr/local/lib/python3.6/dist-packages\n",
            "Searching for pyparsing==2.4.7\n",
            "Best match: pyparsing 2.4.7\n",
            "Adding pyparsing 2.4.7 to easy-install.pth file\n",
            "\n",
            "Using /usr/local/lib/python3.6/dist-packages\n",
            "Searching for python-dateutil==2.8.1\n",
            "Best match: python-dateutil 2.8.1\n",
            "Adding python-dateutil 2.8.1 to easy-install.pth file\n",
            "\n",
            "Using /usr/local/lib/python3.6/dist-packages\n",
            "Searching for kiwisolver==1.2.0\n",
            "Best match: kiwisolver 1.2.0\n",
            "Adding kiwisolver 1.2.0 to easy-install.pth file\n",
            "\n",
            "Using /usr/local/lib/python3.6/dist-packages\n",
            "Searching for six==1.12.0\n",
            "Best match: six 1.12.0\n",
            "Adding six 1.12.0 to easy-install.pth file\n",
            "\n",
            "Using /usr/local/lib/python3.6/dist-packages\n",
            "Finished processing dependencies for pycocotools==2.0\n"
          ],
          "name": "stdout"
        }
      ]
    },
    {
      "cell_type": "code",
      "metadata": {
        "id": "uLkPMrDqJVGk",
        "colab_type": "code",
        "outputId": "227a0eea-9ece-452d-81c4-bda26d19a214",
        "colab": {
          "base_uri": "https://localhost:8080/",
          "height": 34
        }
      },
      "source": [
        "pwd"
      ],
      "execution_count": 0,
      "outputs": [
        {
          "output_type": "execute_result",
          "data": {
            "text/plain": [
              "'/content/gdrive/.shortcut-targets-by-id/1GNkzzPvawhJiNlmrqYMtCj7o01bwjZ0l/_SHARED-UD-TRAFFIC/READ-WRITE-AREA/covid19hackathon2020/cocoapi/PythonAPI'"
            ]
          },
          "metadata": {
            "tags": []
          },
          "execution_count": 40
        }
      ]
    },
    {
      "cell_type": "code",
      "metadata": {
        "id": "jUjwqdlYKVkg",
        "colab_type": "code",
        "outputId": "0acbeaf4-43b9-471b-e65c-f3ac71e37f58",
        "colab": {
          "base_uri": "https://localhost:8080/",
          "height": 34
        }
      },
      "source": [
        "cd ../../"
      ],
      "execution_count": 0,
      "outputs": [
        {
          "output_type": "stream",
          "text": [
            "/content/gdrive/.shortcut-targets-by-id/1GNkzzPvawhJiNlmrqYMtCj7o01bwjZ0l/_SHARED-UD-TRAFFIC/READ-WRITE-AREA/covid19hackathon2020\n"
          ],
          "name": "stdout"
        }
      ]
    },
    {
      "cell_type": "code",
      "metadata": {
        "id": "KrdoFG3jKXDE",
        "colab_type": "code",
        "outputId": "936d357c-823a-497f-984d-150acae3d1ed",
        "colab": {
          "base_uri": "https://localhost:8080/",
          "height": 34
        }
      },
      "source": [
        "ls"
      ],
      "execution_count": 0,
      "outputs": [
        {
          "output_type": "stream",
          "text": [
            "\u001b[0m\u001b[01;34mcocoapi\u001b[0m/  \u001b[01;34mmodels\u001b[0m/  \u001b[01;34mobjectCounting\u001b[0m/\n"
          ],
          "name": "stdout"
        }
      ]
    },
    {
      "cell_type": "code",
      "metadata": {
        "id": "D7mNoX0EKX0N",
        "colab_type": "code",
        "outputId": "427a75b8-080f-4dfe-e3ed-b15b52627ebf",
        "colab": {
          "base_uri": "https://localhost:8080/",
          "height": 34
        }
      },
      "source": [
        "cd models/"
      ],
      "execution_count": 0,
      "outputs": [
        {
          "output_type": "stream",
          "text": [
            "/content/gdrive/.shortcut-targets-by-id/1GNkzzPvawhJiNlmrqYMtCj7o01bwjZ0l/_SHARED-UD-TRAFFIC/READ-WRITE-AREA/covid19hackathon2020/models\n"
          ],
          "name": "stdout"
        }
      ]
    },
    {
      "cell_type": "code",
      "metadata": {
        "id": "7f6pl_SdKaR_",
        "colab_type": "code",
        "outputId": "356f7dc4-87a5-46fe-e362-d3756f1c5939",
        "colab": {
          "base_uri": "https://localhost:8080/",
          "height": 51
        }
      },
      "source": [
        "ls"
      ],
      "execution_count": 0,
      "outputs": [
        {
          "output_type": "stream",
          "text": [
            "AUTHORS     \u001b[0m\u001b[01;34mcommunity\u001b[0m/       ISSUES.md  \u001b[01;34mofficial\u001b[0m/  \u001b[01;34mresearch\u001b[0m/\n",
            "CODEOWNERS  CONTRIBUTING.md  LICENSE    README.md  WORKSPACE\n"
          ],
          "name": "stdout"
        }
      ]
    },
    {
      "cell_type": "code",
      "metadata": {
        "id": "vpNkj8kAKbrs",
        "colab_type": "code",
        "outputId": "7fc8cfad-c4d4-40ae-fe69-27fb8ede318c",
        "colab": {
          "base_uri": "https://localhost:8080/",
          "height": 428
        }
      },
      "source": [
        "!cat README.md"
      ],
      "execution_count": 0,
      "outputs": [
        {
          "output_type": "stream",
          "text": [
            "![Logo](https://storage.googleapis.com/model_garden_artifacts/TF_Model_Garden.png)\n",
            "\n",
            "# Welcome to the Model Garden for TensorFlow\n",
            "\n",
            "The TensorFlow Model Garden is a repository with a number of different implementations of state-of-the-art (SOTA) models and modeling solutions for TensorFlow users. We aim to demonstrate the best practices for modeling so that TensorFlow users can take full advantage of TensorFlow for their research and product development.\n",
            "\n",
            "| Directory | Description |\n",
            "|-----------|-------------|\n",
            "| [official](official) | • A collection of example implementations for SOTA models using the latest TensorFlow 2's high-level APIs<br />• Officially maintained, supported, and kept up to date with the latest TensorFlow 2 APIs by TensorFlow<br />• Reasonably optimized for fast performance while still being easy to read |\n",
            "| [research](research) | • A collection of research model implementations in TensorFlow 1 or 2 by researchers<br />• Maintained and supported by researchers |\n",
            "| [community](community) | • A curated list of the GitHub repositories with machine learning models and implementations powered by TensorFlow 2 |\n",
            "\n",
            "## [Announcements](../../wiki/Announcements)\n",
            "\n",
            "* March 31, 2020: [Introducing the Model Garden for TensorFlow 2](https://blog.tensorflow.org/2020/03/introducing-model-garden-for-tensorflow-2.html) ([Tweet](https://twitter.com/TensorFlow/status/1245029834633297921))\n",
            "\n",
            "## Contributions\n",
            "\n",
            "If you want to contribute, please review the [contribution guidelines](../../wiki/How-to-contribute).\n",
            "\n",
            "## License\n",
            "\n",
            "[Apache License 2.0](LICENSE)\n"
          ],
          "name": "stdout"
        }
      ]
    },
    {
      "cell_type": "code",
      "metadata": {
        "id": "cI6KNQvRKed8",
        "colab_type": "code",
        "outputId": "f838e9b5-02d1-4f64-d682-d62c4717e0f1",
        "colab": {
          "base_uri": "https://localhost:8080/",
          "height": 34
        }
      },
      "source": [
        "cd ../"
      ],
      "execution_count": 0,
      "outputs": [
        {
          "output_type": "stream",
          "text": [
            "/content/gdrive/.shortcut-targets-by-id/1GNkzzPvawhJiNlmrqYMtCj7o01bwjZ0l/_SHARED-UD-TRAFFIC/READ-WRITE-AREA/covid19hackathon2020\n"
          ],
          "name": "stdout"
        }
      ]
    },
    {
      "cell_type": "code",
      "metadata": {
        "id": "qiWXBDdBKoGN",
        "colab_type": "code",
        "outputId": "55ed5eaf-1ecf-48c5-b52b-5dae231cbf32",
        "colab": {
          "base_uri": "https://localhost:8080/",
          "height": 34
        }
      },
      "source": [
        "ls"
      ],
      "execution_count": 0,
      "outputs": [
        {
          "output_type": "stream",
          "text": [
            "\u001b[0m\u001b[01;34mcocoapi\u001b[0m/  \u001b[01;34mmodels\u001b[0m/  \u001b[01;34mobjectCounting\u001b[0m/\n"
          ],
          "name": "stdout"
        }
      ]
    },
    {
      "cell_type": "code",
      "metadata": {
        "id": "xQgIh41LKob9",
        "colab_type": "code",
        "outputId": "a8cf5432-bd27-441b-bf5d-f77dadfb7942",
        "colab": {
          "base_uri": "https://localhost:8080/",
          "height": 34
        }
      },
      "source": [
        "cd objectCounting/"
      ],
      "execution_count": 0,
      "outputs": [
        {
          "output_type": "stream",
          "text": [
            "/content/gdrive/.shortcut-targets-by-id/1GNkzzPvawhJiNlmrqYMtCj7o01bwjZ0l/_SHARED-UD-TRAFFIC/READ-WRITE-AREA/covid19hackathon2020/objectCounting\n"
          ],
          "name": "stdout"
        }
      ]
    },
    {
      "cell_type": "code",
      "metadata": {
        "id": "vmWseZqoKqw1",
        "colab_type": "code",
        "outputId": "9236a69e-db62-458a-bf82-231bf5ea9660",
        "colab": {
          "base_uri": "https://localhost:8080/",
          "height": 34
        }
      },
      "source": [
        "ls"
      ],
      "execution_count": 0,
      "outputs": [
        {
          "output_type": "stream",
          "text": [
            "\u001b[0m\u001b[01;34mtensorflow_object_counting_api\u001b[0m/  \u001b[01;34mvehicle_counting_tensorflow\u001b[0m/\n"
          ],
          "name": "stdout"
        }
      ]
    },
    {
      "cell_type": "code",
      "metadata": {
        "id": "4VGtJ7jrKrS1",
        "colab_type": "code",
        "outputId": "243c350f-5480-4c7e-8e86-5345b10bac21",
        "colab": {
          "base_uri": "https://localhost:8080/",
          "height": 54
        }
      },
      "source": [
        "cd tensorflow_object_counting_api/"
      ],
      "execution_count": 0,
      "outputs": [
        {
          "output_type": "stream",
          "text": [
            "/content/gdrive/.shortcut-targets-by-id/1GNkzzPvawhJiNlmrqYMtCj7o01bwjZ0l/_SHARED-UD-TRAFFIC/READ-WRITE-AREA/covid19hackathon2020/objectCounting/tensorflow_object_counting_api\n"
          ],
          "name": "stdout"
        }
      ]
    },
    {
      "cell_type": "code",
      "metadata": {
        "id": "32QDluqKKtE8",
        "colab_type": "code",
        "outputId": "f161a30b-4334-49cf-ad0e-2f155d6c6604",
        "colab": {
          "base_uri": "https://localhost:8080/",
          "height": 255
        }
      },
      "source": [
        "ls"
      ],
      "execution_count": 0,
      "outputs": [
        {
          "output_type": "stream",
          "text": [
            "1579442235_NCAM070.mp4                    \u001b[0m\u001b[01;34m__pycache__\u001b[0m/\n",
            "\u001b[01;34mapi\u001b[0m/                                      README.md\n",
            "backbone.py                               real_time_counting.py\n",
            "CONTRIBUTING.md                           real_time_counting_targeted_object.py\n",
            "\u001b[01;34mcustom_frozen_inference_graph\u001b[0m/            requirements.txt\n",
            "\u001b[01;34mdata\u001b[0m/                                     single_image_object_counting.py\n",
            "detection_layer.py                        \u001b[01;34msmurf_counter_training\u001b[0m/\n",
            "\u001b[01;34minput_images_and_videos\u001b[0m/                  smurf_counting.py\n",
            "LICENSE                                   \u001b[01;34mssd_mobilenet_v1_coco_2018_01_28\u001b[0m/\n",
            "\u001b[01;34mmainstreetdata\u001b[0m/                           the_output.avi\n",
            "\u001b[01;34mmask_rcnn_counting_api_keras_tensorflow\u001b[0m/  \u001b[01;34mutils\u001b[0m/\n",
            "object_tracking.py                        vehicle_counting.py\n",
            "pedestrian_counting.py                    webcam_counting.py\n",
            "\u001b[01;34mprotos\u001b[0m/\n"
          ],
          "name": "stdout"
        }
      ]
    },
    {
      "cell_type": "code",
      "metadata": {
        "id": "zqceqmydKtZk",
        "colab_type": "code",
        "outputId": "0cc06cbd-08da-462e-f764-00317b061aa9",
        "colab": {
          "base_uri": "https://localhost:8080/",
          "height": 54
        }
      },
      "source": [
        "pwd"
      ],
      "execution_count": 0,
      "outputs": [
        {
          "output_type": "execute_result",
          "data": {
            "text/plain": [
              "'/content/gdrive/.shortcut-targets-by-id/1GNkzzPvawhJiNlmrqYMtCj7o01bwjZ0l/_SHARED-UD-TRAFFIC/READ-WRITE-AREA/covid19hackathon2020/objectCounting/tensorflow_object_counting_api'"
            ]
          },
          "metadata": {
            "tags": []
          },
          "execution_count": 54
        }
      ]
    },
    {
      "cell_type": "code",
      "metadata": {
        "id": "WND42KRnLL88",
        "colab_type": "code",
        "outputId": "a14585b8-e038-405a-bd79-14f3043040b4",
        "colab": {
          "base_uri": "https://localhost:8080/",
          "height": 34
        }
      },
      "source": [
        "cd ../../"
      ],
      "execution_count": 0,
      "outputs": [
        {
          "output_type": "stream",
          "text": [
            "/content/gdrive/.shortcut-targets-by-id/1GNkzzPvawhJiNlmrqYMtCj7o01bwjZ0l/_SHARED-UD-TRAFFIC/READ-WRITE-AREA/covid19hackathon2020\n"
          ],
          "name": "stdout"
        }
      ]
    },
    {
      "cell_type": "code",
      "metadata": {
        "id": "bdEUIXF0MnXh",
        "colab_type": "code",
        "outputId": "d3e027ae-eadd-4a0f-aa2d-b1ff93f53ac2",
        "colab": {
          "base_uri": "https://localhost:8080/",
          "height": 34
        }
      },
      "source": [
        "ls"
      ],
      "execution_count": 0,
      "outputs": [
        {
          "output_type": "stream",
          "text": [
            "\u001b[0m\u001b[01;34mcocoapi\u001b[0m/  \u001b[01;34mmodels\u001b[0m/  \u001b[01;34mobjectCounting\u001b[0m/\n"
          ],
          "name": "stdout"
        }
      ]
    },
    {
      "cell_type": "code",
      "metadata": {
        "id": "R8e5E_w1MoPK",
        "colab_type": "code",
        "outputId": "22ea159d-cff2-484a-baf9-fc1fd1a72e71",
        "colab": {
          "base_uri": "https://localhost:8080/",
          "height": 54
        }
      },
      "source": [
        "cd objectCounting/tensorflow_object_counting_api/"
      ],
      "execution_count": 0,
      "outputs": [
        {
          "output_type": "stream",
          "text": [
            "/content/gdrive/.shortcut-targets-by-id/1GNkzzPvawhJiNlmrqYMtCj7o01bwjZ0l/_SHARED-UD-TRAFFIC/READ-WRITE-AREA/covid19hackathon2020/objectCounting/tensorflow_object_counting_api\n"
          ],
          "name": "stdout"
        }
      ]
    },
    {
      "cell_type": "code",
      "metadata": {
        "id": "TSGoMmkdMxBQ",
        "colab_type": "code",
        "outputId": "9b105ae5-bfa9-47e8-8c31-5a0bebd06b67",
        "colab": {
          "base_uri": "https://localhost:8080/",
          "height": 255
        }
      },
      "source": [
        "ls"
      ],
      "execution_count": 0,
      "outputs": [
        {
          "output_type": "stream",
          "text": [
            "1579442235_NCAM070.mp4                    \u001b[0m\u001b[01;34m__pycache__\u001b[0m/\n",
            "\u001b[01;34mapi\u001b[0m/                                      README.md\n",
            "backbone.py                               real_time_counting.py\n",
            "CONTRIBUTING.md                           real_time_counting_targeted_object.py\n",
            "\u001b[01;34mcustom_frozen_inference_graph\u001b[0m/            requirements.txt\n",
            "\u001b[01;34mdata\u001b[0m/                                     single_image_object_counting.py\n",
            "detection_layer.py                        \u001b[01;34msmurf_counter_training\u001b[0m/\n",
            "\u001b[01;34minput_images_and_videos\u001b[0m/                  smurf_counting.py\n",
            "LICENSE                                   \u001b[01;34mssd_mobilenet_v1_coco_2018_01_28\u001b[0m/\n",
            "\u001b[01;34mmainstreetdata\u001b[0m/                           the_output.avi\n",
            "\u001b[01;34mmask_rcnn_counting_api_keras_tensorflow\u001b[0m/  \u001b[01;34mutils\u001b[0m/\n",
            "object_tracking.py                        vehicle_counting.py\n",
            "pedestrian_counting.py                    webcam_counting.py\n",
            "\u001b[01;34mprotos\u001b[0m/\n"
          ],
          "name": "stdout"
        }
      ]
    },
    {
      "cell_type": "code",
      "metadata": {
        "id": "gL7eydREMxcg",
        "colab_type": "code",
        "colab": {}
      },
      "source": [
        "!pip search GraphDef"
      ],
      "execution_count": 0,
      "outputs": []
    },
    {
      "cell_type": "code",
      "metadata": {
        "id": "F-6PEihuMz6J",
        "colab_type": "code",
        "outputId": "331744a4-0766-4ada-dc48-a65f3f3298d6",
        "colab": {
          "base_uri": "https://localhost:8080/",
          "height": 34
        }
      },
      "source": [
        "!load vehicle_counting.py"
      ],
      "execution_count": 0,
      "outputs": [
        {
          "output_type": "stream",
          "text": [
            "/bin/bash: load: command not found\n"
          ],
          "name": "stdout"
        }
      ]
    },
    {
      "cell_type": "code",
      "metadata": {
        "id": "WGCKxd4wNG96",
        "colab_type": "code",
        "colab": {}
      },
      "source": [
        "%load vehicle_counting.py"
      ],
      "execution_count": 0,
      "outputs": []
    },
    {
      "cell_type": "code",
      "metadata": {
        "id": "Tn6BD9HrNJsB",
        "colab_type": "code",
        "outputId": "656d8896-5b38-49b4-c9a2-028c2600c529",
        "colab": {
          "base_uri": "https://localhost:8080/",
          "height": 428
        }
      },
      "source": [
        "cat vehicle_counting.py"
      ],
      "execution_count": 0,
      "outputs": [
        {
          "output_type": "stream",
          "text": [
            "#----------------------------------------------\n",
            "#--- Author         : Ahmet Ozlu\n",
            "#--- Mail           : ahmetozlu93@gmail.com\n",
            "#--- Date           : 27th January 2018\n",
            "#----------------------------------------------\n",
            "\n",
            "# Imports\n",
            "import tensorflow as tf\n",
            "\n",
            "# Object detection imports\n",
            "from utils import backbone\n",
            "from api import object_counting_api\n",
            "\n",
            "input_video = \"./input_images_and_videos/vehicle_survaillance.mp4\"\n",
            "\n",
            "# By default I use an \"SSD with Mobilenet\" model here. See the detection model zoo (https://github.com/tensorflow/models/blob/master/research/object_detection/g3doc/detection_model_zoo.md) for a list of other models that can be run out-of-the-box with varying speeds and accuracies.\n",
            "detection_graph, category_index = backbone.set_model('ssd_mobilenet_v1_coco_2018_01_28', 'mscoco_label_map.pbtxt')\n",
            "\n",
            "is_color_recognition_enabled = 1 # set it to 1 for enabling the color prediction for the detected objects\n",
            "roi = 185 # roi line position\n",
            "deviation = 2 # the constant that represents the object counting area\n",
            "\n",
            "object_counting_api.cumulative_object_counting_y_axis(input_video, detection_graph, category_index, is_color_recognition_enabled, roi, deviation) # counting all the objects\n"
          ],
          "name": "stdout"
        }
      ]
    },
    {
      "cell_type": "code",
      "metadata": {
        "id": "pIBFVF5pNMK5",
        "colab_type": "code",
        "outputId": "65507a1f-751e-48f2-8914-c56a05af188e",
        "colab": {
          "base_uri": "https://localhost:8080/",
          "height": 786
        }
      },
      "source": [
        "!pip3 install tensorflow-gpu"
      ],
      "execution_count": 0,
      "outputs": [
        {
          "output_type": "stream",
          "text": [
            "Collecting tensorflow-gpu\n",
            "\u001b[?25l  Downloading https://files.pythonhosted.org/packages/31/bf/c28971266ca854a64f4b26f07c4112ddd61f30b4d1f18108b954a746f8ea/tensorflow_gpu-2.2.0-cp36-cp36m-manylinux2010_x86_64.whl (516.2MB)\n",
            "\u001b[K     |████████████████████████████████| 516.2MB 31kB/s \n",
            "\u001b[?25hRequirement already satisfied: tensorboard<2.3.0,>=2.2.0 in /usr/local/lib/python3.6/dist-packages (from tensorflow-gpu) (2.2.1)\n",
            "Requirement already satisfied: h5py<2.11.0,>=2.10.0 in /usr/local/lib/python3.6/dist-packages (from tensorflow-gpu) (2.10.0)\n",
            "Requirement already satisfied: google-pasta>=0.1.8 in /usr/local/lib/python3.6/dist-packages (from tensorflow-gpu) (0.2.0)\n",
            "Requirement already satisfied: termcolor>=1.1.0 in /usr/local/lib/python3.6/dist-packages (from tensorflow-gpu) (1.1.0)\n",
            "Requirement already satisfied: wheel>=0.26; python_version >= \"3\" in /usr/local/lib/python3.6/dist-packages (from tensorflow-gpu) (0.34.2)\n",
            "Requirement already satisfied: scipy==1.4.1; python_version >= \"3\" in /usr/local/lib/python3.6/dist-packages (from tensorflow-gpu) (1.4.1)\n",
            "Requirement already satisfied: opt-einsum>=2.3.2 in /usr/local/lib/python3.6/dist-packages (from tensorflow-gpu) (3.2.1)\n",
            "Requirement already satisfied: grpcio>=1.8.6 in /usr/local/lib/python3.6/dist-packages (from tensorflow-gpu) (1.28.1)\n",
            "Requirement already satisfied: astunparse==1.6.3 in /usr/local/lib/python3.6/dist-packages (from tensorflow-gpu) (1.6.3)\n",
            "Requirement already satisfied: numpy<2.0,>=1.16.0 in /usr/local/lib/python3.6/dist-packages (from tensorflow-gpu) (1.18.3)\n",
            "Requirement already satisfied: tensorflow-estimator<2.3.0,>=2.2.0 in /usr/local/lib/python3.6/dist-packages (from tensorflow-gpu) (2.2.0)\n",
            "Requirement already satisfied: absl-py>=0.7.0 in /usr/local/lib/python3.6/dist-packages (from tensorflow-gpu) (0.9.0)\n",
            "Requirement already satisfied: gast==0.3.3 in /usr/local/lib/python3.6/dist-packages (from tensorflow-gpu) (0.3.3)\n",
            "Requirement already satisfied: keras-preprocessing>=1.1.0 in /usr/local/lib/python3.6/dist-packages (from tensorflow-gpu) (1.1.0)\n",
            "Requirement already satisfied: six>=1.12.0 in /usr/local/lib/python3.6/dist-packages (from tensorflow-gpu) (1.12.0)\n",
            "Requirement already satisfied: wrapt>=1.11.1 in /usr/local/lib/python3.6/dist-packages (from tensorflow-gpu) (1.12.1)\n",
            "Requirement already satisfied: protobuf>=3.8.0 in /usr/local/lib/python3.6/dist-packages (from tensorflow-gpu) (3.10.0)\n",
            "Requirement already satisfied: werkzeug>=0.11.15 in /usr/local/lib/python3.6/dist-packages (from tensorboard<2.3.0,>=2.2.0->tensorflow-gpu) (1.0.1)\n",
            "Requirement already satisfied: markdown>=2.6.8 in /usr/local/lib/python3.6/dist-packages (from tensorboard<2.3.0,>=2.2.0->tensorflow-gpu) (3.2.1)\n",
            "Requirement already satisfied: google-auth<2,>=1.6.3 in /usr/local/lib/python3.6/dist-packages (from tensorboard<2.3.0,>=2.2.0->tensorflow-gpu) (1.7.2)\n",
            "Requirement already satisfied: requests<3,>=2.21.0 in /usr/local/lib/python3.6/dist-packages (from tensorboard<2.3.0,>=2.2.0->tensorflow-gpu) (2.23.0)\n",
            "Requirement already satisfied: setuptools>=41.0.0 in /usr/local/lib/python3.6/dist-packages (from tensorboard<2.3.0,>=2.2.0->tensorflow-gpu) (46.1.3)\n",
            "Requirement already satisfied: google-auth-oauthlib<0.5,>=0.4.1 in /usr/local/lib/python3.6/dist-packages (from tensorboard<2.3.0,>=2.2.0->tensorflow-gpu) (0.4.1)\n",
            "Requirement already satisfied: tensorboard-plugin-wit>=1.6.0 in /usr/local/lib/python3.6/dist-packages (from tensorboard<2.3.0,>=2.2.0->tensorflow-gpu) (1.6.0.post3)\n",
            "Requirement already satisfied: cachetools<3.2,>=2.0.0 in /usr/local/lib/python3.6/dist-packages (from google-auth<2,>=1.6.3->tensorboard<2.3.0,>=2.2.0->tensorflow-gpu) (3.1.1)\n",
            "Requirement already satisfied: rsa<4.1,>=3.1.4 in /usr/local/lib/python3.6/dist-packages (from google-auth<2,>=1.6.3->tensorboard<2.3.0,>=2.2.0->tensorflow-gpu) (4.0)\n",
            "Requirement already satisfied: pyasn1-modules>=0.2.1 in /usr/local/lib/python3.6/dist-packages (from google-auth<2,>=1.6.3->tensorboard<2.3.0,>=2.2.0->tensorflow-gpu) (0.2.8)\n",
            "Requirement already satisfied: certifi>=2017.4.17 in /usr/local/lib/python3.6/dist-packages (from requests<3,>=2.21.0->tensorboard<2.3.0,>=2.2.0->tensorflow-gpu) (2020.4.5.1)\n",
            "Requirement already satisfied: urllib3!=1.25.0,!=1.25.1,<1.26,>=1.21.1 in /usr/local/lib/python3.6/dist-packages (from requests<3,>=2.21.0->tensorboard<2.3.0,>=2.2.0->tensorflow-gpu) (1.24.3)\n",
            "Requirement already satisfied: chardet<4,>=3.0.2 in /usr/local/lib/python3.6/dist-packages (from requests<3,>=2.21.0->tensorboard<2.3.0,>=2.2.0->tensorflow-gpu) (3.0.4)\n",
            "Requirement already satisfied: idna<3,>=2.5 in /usr/local/lib/python3.6/dist-packages (from requests<3,>=2.21.0->tensorboard<2.3.0,>=2.2.0->tensorflow-gpu) (2.9)\n",
            "Requirement already satisfied: requests-oauthlib>=0.7.0 in /usr/local/lib/python3.6/dist-packages (from google-auth-oauthlib<0.5,>=0.4.1->tensorboard<2.3.0,>=2.2.0->tensorflow-gpu) (1.3.0)\n",
            "Requirement already satisfied: pyasn1>=0.1.3 in /usr/local/lib/python3.6/dist-packages (from rsa<4.1,>=3.1.4->google-auth<2,>=1.6.3->tensorboard<2.3.0,>=2.2.0->tensorflow-gpu) (0.4.8)\n",
            "Requirement already satisfied: oauthlib>=3.0.0 in /usr/local/lib/python3.6/dist-packages (from requests-oauthlib>=0.7.0->google-auth-oauthlib<0.5,>=0.4.1->tensorboard<2.3.0,>=2.2.0->tensorflow-gpu) (3.1.0)\n",
            "Installing collected packages: tensorflow-gpu\n",
            "Successfully installed tensorflow-gpu-2.2.0\n"
          ],
          "name": "stdout"
        },
        {
          "output_type": "display_data",
          "data": {
            "application/vnd.colab-display-data+json": {
              "pip_warning": {
                "packages": [
                  "tensorflow"
                ]
              }
            }
          },
          "metadata": {
            "tags": []
          }
        }
      ]
    },
    {
      "cell_type": "code",
      "metadata": {
        "id": "6wLnygv3NQNm",
        "colab_type": "code",
        "outputId": "9fa3cb12-09d2-4f45-e84d-01d86b85acab",
        "colab": {
          "base_uri": "https://localhost:8080/",
          "height": 368
        }
      },
      "source": [
        "# Imports\n",
        "import tensorflow as tf\n",
        "\n",
        "# Object detection imports\n",
        "from utils import backbone\n",
        "from api import object_counting_api\n",
        "\n",
        "input_video = \"./input_images_and_videos/vehicle_survaillance.mp4\"\n",
        "\n",
        "# By default I use an \"SSD with Mobilenet\" model here. See the detection model zoo (https://github.com/tensorflow/models/blob/master/research/object_detection/g3doc/detection_model_zoo.md) for a list of other models that can be run out-of-the-box with varying speeds and accuracies.\n",
        "detection_graph, category_index = backbone.set_model('ssd_mobilenet_v1_coco_2018_01_28', 'mscoco_label_map.pbtxt')\n",
        "\n",
        "is_color_recognition_enabled = 1 # set it to 1 for enabling the color prediction for the detected objects\n",
        "roi = 185 # roi line position\n",
        "deviation = 2 # the constant that represents the object counting area\n",
        "\n",
        "object_counting_api.cumulative_object_counting_y_axis(input_video, detection_graph, category_index, is_color_recognition_enabled, roi, deviation) # counting all the objects"
      ],
      "execution_count": 0,
      "outputs": [
        {
          "output_type": "error",
          "ename": "ModuleNotFoundError",
          "evalue": "ignored",
          "traceback": [
            "\u001b[0;31m---------------------------------------------------------------------------\u001b[0m",
            "\u001b[0;31mModuleNotFoundError\u001b[0m                       Traceback (most recent call last)",
            "\u001b[0;32m<ipython-input-2-9058c9fffba3>\u001b[0m in \u001b[0;36m<module>\u001b[0;34m()\u001b[0m\n\u001b[1;32m      2\u001b[0m \u001b[0;34m\u001b[0m\u001b[0m\n\u001b[1;32m      3\u001b[0m \u001b[0;31m# Object detection imports\u001b[0m\u001b[0;34m\u001b[0m\u001b[0;34m\u001b[0m\u001b[0;34m\u001b[0m\u001b[0m\n\u001b[0;32m----> 4\u001b[0;31m \u001b[0;32mfrom\u001b[0m \u001b[0mutils\u001b[0m \u001b[0;32mimport\u001b[0m \u001b[0mbackbone\u001b[0m\u001b[0;34m\u001b[0m\u001b[0;34m\u001b[0m\u001b[0m\n\u001b[0m\u001b[1;32m      5\u001b[0m \u001b[0;32mfrom\u001b[0m \u001b[0mapi\u001b[0m \u001b[0;32mimport\u001b[0m \u001b[0mobject_counting_api\u001b[0m\u001b[0;34m\u001b[0m\u001b[0;34m\u001b[0m\u001b[0m\n\u001b[1;32m      6\u001b[0m \u001b[0;34m\u001b[0m\u001b[0m\n",
            "\u001b[0;31mModuleNotFoundError\u001b[0m: No module named 'utils'",
            "",
            "\u001b[0;31m---------------------------------------------------------------------------\u001b[0;32m\nNOTE: If your import is failing due to a missing package, you can\nmanually install dependencies using either !pip or !apt.\n\nTo view examples of installing some common dependencies, click the\n\"Open Examples\" button below.\n\u001b[0;31m---------------------------------------------------------------------------\u001b[0m\n"
          ]
        }
      ]
    },
    {
      "cell_type": "code",
      "metadata": {
        "id": "WSzAYEYYNQQW",
        "colab_type": "code",
        "outputId": "f1d9d5af-9618-41c0-d995-dfc1f0d52b1c",
        "colab": {
          "base_uri": "https://localhost:8080/",
          "height": 224
        }
      },
      "source": [
        "!wget https://gist.githubusercontent.com/dynamicguy/3d1fce8dae65e765f7c4/raw/ed0f14163d731331a7f7fa89fe8a2100895a4a95/install-opencv-2.4.11-in-ubuntu.sh\n"
      ],
      "execution_count": 0,
      "outputs": [
        {
          "output_type": "stream",
          "text": [
            "--2020-05-08 17:27:16--  https://gist.githubusercontent.com/dynamicguy/3d1fce8dae65e765f7c4/raw/ed0f14163d731331a7f7fa89fe8a2100895a4a95/install-opencv-2.4.11-in-ubuntu.sh\n",
            "Resolving gist.githubusercontent.com (gist.githubusercontent.com)... 151.101.0.133, 151.101.64.133, 151.101.128.133, ...\n",
            "Connecting to gist.githubusercontent.com (gist.githubusercontent.com)|151.101.0.133|:443... connected.\n",
            "HTTP request sent, awaiting response... 200 OK\n",
            "Length: 1780 (1.7K) [text/plain]\n",
            "Saving to: ‘install-opencv-2.4.11-in-ubuntu.sh’\n",
            "\n",
            "\r          install-o   0%[                    ]       0  --.-KB/s               \rinstall-opencv-2.4. 100%[===================>]   1.74K  --.-KB/s    in 0s      \n",
            "\n",
            "2020-05-08 17:27:17 (34.2 MB/s) - ‘install-opencv-2.4.11-in-ubuntu.sh’ saved [1780/1780]\n",
            "\n"
          ],
          "name": "stdout"
        }
      ]
    },
    {
      "cell_type": "code",
      "metadata": {
        "id": "TETWRpb5NQSs",
        "colab_type": "code",
        "colab": {}
      },
      "source": [
        "!chmod +x install-opencv-2.4.11-in-ubuntu.sh"
      ],
      "execution_count": 0,
      "outputs": []
    },
    {
      "cell_type": "code",
      "metadata": {
        "id": "e_qMJC_FNQUy",
        "colab_type": "code",
        "outputId": "b543eed0-2283-4437-df94-af18befedbf8",
        "colab": {
          "base_uri": "https://localhost:8080/",
          "height": 34
        }
      },
      "source": [
        "!python3 vehicle_detection_main.py"
      ],
      "execution_count": 0,
      "outputs": [
        {
          "output_type": "stream",
          "text": [
            "python3: can't open file 'vehicle_detection_main.py': [Errno 2] No such file or directory\n"
          ],
          "name": "stdout"
        }
      ]
    },
    {
      "cell_type": "code",
      "metadata": {
        "id": "iwa8_2w3NQX9",
        "colab_type": "code",
        "outputId": "75069777-6672-4ee0-9ac4-6254349d15b0",
        "colab": {
          "base_uri": "https://localhost:8080/",
          "height": 34
        }
      },
      "source": [
        "ls"
      ],
      "execution_count": 0,
      "outputs": [
        {
          "output_type": "stream",
          "text": [
            "\u001b[0m\u001b[01;34mgdrive\u001b[0m/  \u001b[01;32minstall-opencv-2.4.11-in-ubuntu.sh\u001b[0m*  \u001b[01;34msample_data\u001b[0m/\n"
          ],
          "name": "stdout"
        }
      ]
    },
    {
      "cell_type": "code",
      "metadata": {
        "id": "xe1Cumm5VLGZ",
        "colab_type": "code",
        "outputId": "6c6b7e4a-02ae-4f80-9c0b-fbe8c7c435d2",
        "colab": {
          "base_uri": "https://localhost:8080/",
          "height": 34
        }
      },
      "source": [
        "cd gdrive"
      ],
      "execution_count": 0,
      "outputs": [
        {
          "output_type": "stream",
          "text": [
            "/content/gdrive\n"
          ],
          "name": "stdout"
        }
      ]
    },
    {
      "cell_type": "code",
      "metadata": {
        "id": "3uk7M861VOEY",
        "colab_type": "code",
        "outputId": "f9985c1d-9d5d-44a0-84c8-effc3225cab7",
        "colab": {
          "base_uri": "https://localhost:8080/",
          "height": 34
        }
      },
      "source": [
        "ls"
      ],
      "execution_count": 0,
      "outputs": [
        {
          "output_type": "stream",
          "text": [
            "\u001b[0m\u001b[01;34m'My Drive'\u001b[0m/  \u001b[01;34m'Shared drives'\u001b[0m/\n"
          ],
          "name": "stdout"
        }
      ]
    },
    {
      "cell_type": "code",
      "metadata": {
        "id": "EIv0rk7EVPQI",
        "colab_type": "code",
        "outputId": "e5f020bf-4836-4c4a-826d-88b818fec4c5",
        "colab": {
          "base_uri": "https://localhost:8080/",
          "height": 34
        }
      },
      "source": [
        "cd 'My Drive'"
      ],
      "execution_count": 0,
      "outputs": [
        {
          "output_type": "stream",
          "text": [
            "/content/gdrive/My Drive\n"
          ],
          "name": "stdout"
        }
      ]
    },
    {
      "cell_type": "code",
      "metadata": {
        "id": "f2RQqOMlVR9p",
        "colab_type": "code",
        "outputId": "e7307636-ea35-41ba-e276-5edde03abeed",
        "colab": {
          "base_uri": "https://localhost:8080/",
          "height": 34
        }
      },
      "source": [
        "cd _SHARED-UD-TRAFFIC/"
      ],
      "execution_count": 0,
      "outputs": [
        {
          "output_type": "stream",
          "text": [
            "/content/gdrive/.shortcut-targets-by-id/1GNkzzPvawhJiNlmrqYMtCj7o01bwjZ0l/_SHARED-UD-TRAFFIC\n"
          ],
          "name": "stdout"
        }
      ]
    },
    {
      "cell_type": "code",
      "metadata": {
        "id": "BELu2n_eVWxt",
        "colab_type": "code",
        "outputId": "c73273d7-26e0-49ec-e81b-bac53fc20f17",
        "colab": {
          "base_uri": "https://localhost:8080/",
          "height": 34
        }
      },
      "source": [
        "cd READ-WRITE-AREA/"
      ],
      "execution_count": 0,
      "outputs": [
        {
          "output_type": "stream",
          "text": [
            "/content/gdrive/.shortcut-targets-by-id/1GNkzzPvawhJiNlmrqYMtCj7o01bwjZ0l/_SHARED-UD-TRAFFIC/READ-WRITE-AREA\n"
          ],
          "name": "stdout"
        }
      ]
    },
    {
      "cell_type": "code",
      "metadata": {
        "id": "Um0q7YLsVW0U",
        "colab_type": "code",
        "outputId": "a946196f-c3f8-4a5f-82ed-9489f74bfd1b",
        "colab": {
          "base_uri": "https://localhost:8080/",
          "height": 34
        }
      },
      "source": [
        "cd covid19hackathon2020/objectCounting/"
      ],
      "execution_count": 0,
      "outputs": [
        {
          "output_type": "stream",
          "text": [
            "/content/gdrive/.shortcut-targets-by-id/1GNkzzPvawhJiNlmrqYMtCj7o01bwjZ0l/_SHARED-UD-TRAFFIC/READ-WRITE-AREA/covid19hackathon2020/objectCounting\n"
          ],
          "name": "stdout"
        }
      ]
    },
    {
      "cell_type": "code",
      "metadata": {
        "id": "-BQAVV24VW22",
        "colab_type": "code",
        "outputId": "1ff760af-b78f-4628-e83a-cb391ce1ce23",
        "colab": {
          "base_uri": "https://localhost:8080/",
          "height": 51
        }
      },
      "source": [
        "cd objectCounting"
      ],
      "execution_count": 0,
      "outputs": [
        {
          "output_type": "stream",
          "text": [
            "[Errno 2] No such file or directory: 'objectCounting'\n",
            "/content/gdrive/.shortcut-targets-by-id/1GNkzzPvawhJiNlmrqYMtCj7o01bwjZ0l/_SHARED-UD-TRAFFIC/READ-WRITE-AREA\n"
          ],
          "name": "stdout"
        }
      ]
    },
    {
      "cell_type": "code",
      "metadata": {
        "id": "k28CE017VW6C",
        "colab_type": "code",
        "outputId": "d8dd8d12-d987-4725-ae0f-c3b520622066",
        "colab": {
          "base_uri": "https://localhost:8080/",
          "height": 34
        }
      },
      "source": [
        "!python3 vehicle_detection_main.py"
      ],
      "execution_count": 0,
      "outputs": [
        {
          "output_type": "stream",
          "text": [
            "python3: can't open file 'vehicle_detection_main.py': [Errno 2] No such file or directory\n"
          ],
          "name": "stdout"
        }
      ]
    },
    {
      "cell_type": "code",
      "metadata": {
        "id": "fsKFj5RBVtIS",
        "colab_type": "code",
        "outputId": "356b7f9b-12de-4253-b38b-36fdaf88d511",
        "colab": {
          "base_uri": "https://localhost:8080/",
          "height": 34
        }
      },
      "source": [
        "ls"
      ],
      "execution_count": 0,
      "outputs": [
        {
          "output_type": "stream",
          "text": [
            "\u001b[0m\u001b[01;34mtensorflow_object_counting_api\u001b[0m/  \u001b[01;34mvehicle_counting_tensorflow\u001b[0m/\n"
          ],
          "name": "stdout"
        }
      ]
    },
    {
      "cell_type": "code",
      "metadata": {
        "id": "k4e1MOlpV2jh",
        "colab_type": "code",
        "outputId": "fe7b83ca-0f18-42b8-bdb7-8ea0b1d0904d",
        "colab": {
          "base_uri": "https://localhost:8080/",
          "height": 54
        }
      },
      "source": [
        "cd vehicle_counting_tensorflow/"
      ],
      "execution_count": 0,
      "outputs": [
        {
          "output_type": "stream",
          "text": [
            "/content/gdrive/.shortcut-targets-by-id/1GNkzzPvawhJiNlmrqYMtCj7o01bwjZ0l/_SHARED-UD-TRAFFIC/READ-WRITE-AREA/covid19hackathon2020/objectCounting/vehicle_counting_tensorflow\n"
          ],
          "name": "stdout"
        }
      ]
    },
    {
      "cell_type": "code",
      "metadata": {
        "id": "Gp0qDspBV72a",
        "colab_type": "code",
        "outputId": "d630fd6f-cce8-4330-ea83-0d5e115b5f14",
        "colab": {
          "base_uri": "https://localhost:8080/",
          "height": 1000
        }
      },
      "source": [
        "cat vehicle_detection_main.py"
      ],
      "execution_count": 0,
      "outputs": [
        {
          "output_type": "stream",
          "text": [
            "#!/usr/bin/python\n",
            "# -*- coding: utf-8 -*-\n",
            "# ----------------------------------------------\n",
            "# --- Author         : Ahmet Ozlu\n",
            "# --- Mail           : ahmetozlu93@gmail.com\n",
            "# --- Date           : 27th January 2018\n",
            "# ----------------------------------------------\n",
            "\n",
            "# Imports\n",
            "import numpy as np\n",
            "import os\n",
            "import six.moves.urllib as urllib\n",
            "import sys\n",
            "import tarfile\n",
            "import tensorflow as tf\n",
            "import zipfile\n",
            "import cv2\n",
            "import numpy as np\n",
            "import csv\n",
            "import time\n",
            "\n",
            "from collections import defaultdict\n",
            "from io import StringIO\n",
            "from matplotlib import pyplot as plt\n",
            "from PIL import Image\n",
            "\n",
            "# Object detection imports\n",
            "from utils import label_map_util\n",
            "from utils import visualization_utils as vis_util\n",
            "\n",
            "# input video\n",
            "#videoname='1588597376_NCAM042_media_w1453902198_92161.mp4'\n",
            "videoname='abc.mp4'\n",
            "cap = cv2.VideoCapture(videoname)\n",
            "#cap = cv2.VideoCapture('video2.mp4')\n",
            "\n",
            "# initialize .csv\n",
            "with open(videoname+'traffic_measurement.csv', 'w') as f:\n",
            "    writer = csv.writer(f)\n",
            "    csv_line = \\\n",
            "        'Vehicle Type/Size, Vehicle Color, Vehicle Movement Direction, Vehicle Speed (km/h)'\n",
            "    writer.writerows([csv_line.split(',')])\n",
            "\n",
            "if tf.__version__ < '1.4.0':\n",
            "    raise ImportError('Please upgrade your tensorflow installation to v1.4.* or later!'\n",
            "                      )\n",
            "\n",
            "# Variables\n",
            "total_passed_vehicle = 0  # using it to count vehicles\n",
            "\n",
            "# By default I use an \"SSD with Mobilenet\" model here. See the detection model zoo (https://github.com/tensorflow/models/blob/master/research/object_detection/g3doc/detection_model_zoo.md) for a list of other models that can be run out-of-the-box with varying speeds and accuracies.\n",
            "# What model to download.\n",
            "MODEL_NAME = 'ssd_mobilenet_v1_coco_2018_01_28'\n",
            "MODEL_FILE = MODEL_NAME + '.tar.gz'\n",
            "DOWNLOAD_BASE = \\\n",
            "    'http://download.tensorflow.org/models/object_detection/'\n",
            "\n",
            "# Path to frozen detection graph. This is the actual model that is used for the object detection.\n",
            "PATH_TO_CKPT = MODEL_NAME + '/frozen_inference_graph.pb'\n",
            "\n",
            "# List of the strings that is used to add correct label for each box.\n",
            "PATH_TO_LABELS = os.path.join('data', 'mscoco_label_map.pbtxt')\n",
            "\n",
            "NUM_CLASSES = 90\n",
            "\n",
            "# Download Model\n",
            "# uncomment if you have not download the model yet\n",
            "# Load a (frozen) Tensorflow model into memory.\n",
            "detection_graph = tf.Graph()\n",
            "with detection_graph.as_default():\n",
            "    od_graph_def = tf.GraphDef()\n",
            "    with tf.gfile.GFile(PATH_TO_CKPT, 'rb') as fid:\n",
            "        serialized_graph = fid.read()\n",
            "        od_graph_def.ParseFromString(serialized_graph)\n",
            "        tf.import_graph_def(od_graph_def, name='')\n",
            "\n",
            "# Loading label map\n",
            "# Label maps map indices to category names, so that when our convolution network predicts 5, we know that this corresponds to airplane. Here I use internal utility functions, but anything that returns a dictionary mapping integers to appropriate string labels would be fine\n",
            "label_map = label_map_util.load_labelmap(PATH_TO_LABELS)\n",
            "categories = label_map_util.convert_label_map_to_categories(label_map,\n",
            "        max_num_classes=NUM_CLASSES, use_display_name=True)\n",
            "category_index = label_map_util.create_category_index(categories)\n",
            "\n",
            "\n",
            "# Helper code\n",
            "def load_image_into_numpy_array(image):\n",
            "    (im_width, im_height) = image.size\n",
            "    print(im_width)\n",
            "    print(im_height)\n",
            "    return np.array(image.getdata()).reshape((im_height, im_width,\n",
            "            3)).astype(np.uint8)\n",
            "\n",
            "#Write into a video\n",
            "fourcc = cv2.VideoWriter_fourcc(*'XVID')\n",
            "out = cv2.VideoWriter(videoname+'_output.avi', fourcc, 20.0, (640,480))\n",
            "\n",
            "# Detection\n",
            "def object_detection_function():\n",
            "    print(\"inside object_detection_function\")\n",
            "    total_passed_vehicle = 0\n",
            "    speed = 'waiting...'\n",
            "    direction = 'waiting...'\n",
            "    size = 'waiting...'\n",
            "    color = 'waiting...'\n",
            "    with detection_graph.as_default():\n",
            "        with tf.Session(graph=detection_graph) as sess:\n",
            "            print(\"inside object_detection_graph\")\n",
            "\n",
            "            # Definite input and output Tensors for detection_graph\n",
            "            image_tensor = detection_graph.get_tensor_by_name('image_tensor:0')\n",
            "\n",
            "            # Each box represents a part of the image where a particular object was detected.\n",
            "            detection_boxes = detection_graph.get_tensor_by_name('detection_boxes:0')\n",
            "\n",
            "            # Each score represent how level of confidence for each of the objects.\n",
            "            # Score is shown on the result image, together with the class label.\n",
            "            detection_scores = detection_graph.get_tensor_by_name('detection_scores:0')\n",
            "            detection_classes = detection_graph.get_tensor_by_name('detection_classes:0')\n",
            "            num_detections = detection_graph.get_tensor_by_name('num_detections:0')\n",
            "\n",
            "            # for all the frames that are extracted from input video\n",
            "            while cap.isOpened():\n",
            "                (ret, frame) = cap.read()\n",
            "\n",
            "                if not ret:\n",
            "                    print ('end of the video file...')\n",
            "                    break\n",
            "\n",
            "                input_frame = frame\n",
            "\n",
            "                # Expand dimensions since the model expects images to have shape: [1, None, None, 3]\n",
            "                image_np_expanded = np.expand_dims(input_frame, axis=0)\n",
            "\n",
            "                # Actual detection.\n",
            "                (boxes, scores, classes, num) = \\\n",
            "                    sess.run([detection_boxes, detection_scores,\n",
            "                             detection_classes, num_detections],\n",
            "                             feed_dict={image_tensor: image_np_expanded})\n",
            "\n",
            "                # Visualization of the results of a detection.\n",
            "                (counter, csv_line) = \\\n",
            "                    vis_util.visualize_boxes_and_labels_on_image_array(\n",
            "                    cap.get(1),\n",
            "                    input_frame,\n",
            "                    np.squeeze(boxes),\n",
            "                    np.squeeze(classes).astype(np.int32),\n",
            "                    np.squeeze(scores),\n",
            "                    category_index,\n",
            "                    use_normalized_coordinates=True,\n",
            "                    line_thickness=4,\n",
            "                    )\n",
            "\n",
            "                total_passed_vehicle = total_passed_vehicle + counter\n",
            "\n",
            "                print(\"total_passed_vehicle: \", total_passed_vehicle)\n",
            "                # insert information text to video frame\n",
            "                font = cv2.FONT_HERSHEY_SIMPLEX\n",
            "                cv2.putText(\n",
            "                    input_frame,\n",
            "                    'Detected Vehicles: ' + str(total_passed_vehicle),\n",
            "                    (10, 35),\n",
            "                    font,\n",
            "                    0.8,\n",
            "                    (0, 0xFF, 0xFF),\n",
            "                    2,\n",
            "                    cv2.FONT_HERSHEY_SIMPLEX,\n",
            "                    )\n",
            "\n",
            "                # when the vehicle passed over line and counted, make the color of ROI line green\n",
            "                if counter == 1:\n",
            "                    cv2.line(input_frame, (0, 200), (640, 200), (0, 0xFF, 0), 5)\n",
            "                else:\n",
            "                    cv2.line(input_frame, (0, 200), (640, 200), (0, 0, 0xFF), 5)\n",
            "\n",
            "                # insert information text to video frame\n",
            "                cv2.rectangle(input_frame, (10, 275), (230, 337), (180, 132, 109), -1)\n",
            "                cv2.putText(\n",
            "                    input_frame,\n",
            "                    'ROI Line',\n",
            "                    (545, 190),\n",
            "                    font,\n",
            "                    0.6,\n",
            "                    (0, 0, 0xFF),\n",
            "                    2,\n",
            "                    cv2.LINE_AA,\n",
            "                    )\n",
            "                cv2.putText(\n",
            "                    input_frame,\n",
            "                    'LAST PASSED VEHICLE INFO',\n",
            "                    (11, 290),\n",
            "                    font,\n",
            "                    0.5,\n",
            "                    (0xFF, 0xFF, 0xFF),\n",
            "                    1,\n",
            "                    cv2.FONT_HERSHEY_SIMPLEX,\n",
            "                    )\n",
            "                cv2.putText(\n",
            "                    input_frame,\n",
            "                    '-Movement Direction: ' + direction,\n",
            "                    (14, 302),\n",
            "                    font,\n",
            "                    0.4,\n",
            "                    (0xFF, 0xFF, 0xFF),\n",
            "                    1,\n",
            "                    cv2.FONT_HERSHEY_COMPLEX_SMALL,\n",
            "                    )\n",
            "                cv2.putText(\n",
            "                    input_frame,\n",
            "                    '-Speed(km/h): ' + speed,\n",
            "                    (14, 312),\n",
            "                    font,\n",
            "                    0.4,\n",
            "                    (0xFF, 0xFF, 0xFF),\n",
            "                    1,\n",
            "                    cv2.FONT_HERSHEY_COMPLEX_SMALL,\n",
            "                    )\n",
            "                cv2.putText(\n",
            "                    input_frame,\n",
            "                    '-Color: ' + color,\n",
            "                    (14, 322),\n",
            "                    font,\n",
            "                    0.4,\n",
            "                    (0xFF, 0xFF, 0xFF),\n",
            "                    1,\n",
            "                    cv2.FONT_HERSHEY_COMPLEX_SMALL,\n",
            "                    )\n",
            "                cv2.putText(\n",
            "                    input_frame,\n",
            "                    '-Vehicle Size/Type: ' + size,\n",
            "                    (14, 332),\n",
            "                    font,\n",
            "                    0.4,\n",
            "                    (0xFF, 0xFF, 0xFF),\n",
            "                    1,\n",
            "                    cv2.FONT_HERSHEY_COMPLEX_SMALL,\n",
            "                    )\n",
            "                #Write to a video\n",
            "                #out = cv2.VideoWriter('output.mp4', fourcc, 20.0, (640,480))\n",
            "                input_frame = cv2.resize(input_frame,(640,480))\n",
            "                out.write(input_frame)\n",
            "                #frame_array.append(input_frame)\n",
            "                #cv2.imshow('vehicle detection', input_frame)\n",
            "                if cv2.waitKey(1) & 0xFF == ord('q'):\n",
            "                    break\n",
            "\n",
            "                print(\"inside object_frame\")\n",
            " \n",
            "                if csv_line != 'not_available':\n",
            "                    with open('traffic_measurement.csv', 'a') as f:\n",
            "                        writer = csv.writer(f)\n",
            "                        (size, color, direction, speed) = \\\n",
            "                            csv_line.split(',')\n",
            "                        writer.writerows([csv_line.split(',')])\n",
            "            cap.release()\n",
            "            out.release()\n",
            "            #cv2.destroyAllWindows()\n",
            "\n",
            "\n",
            "object_detection_function()\t\t\n"
          ],
          "name": "stdout"
        }
      ]
    },
    {
      "cell_type": "code",
      "metadata": {
        "id": "ShqKhUxDV9IL",
        "colab_type": "code",
        "colab": {}
      },
      "source": [
        ""
      ],
      "execution_count": 0,
      "outputs": []
    }
  ]
}