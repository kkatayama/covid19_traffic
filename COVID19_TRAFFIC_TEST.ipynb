{
  "nbformat": 4,
  "nbformat_minor": 0,
  "metadata": {
    "colab": {
      "name": "Copy of Copy of COVID19_TRAFFIC_TEST",
      "provenance": [],
      "mount_file_id": "1_DshCOS_ZXTWJQE2ytFXGQKPf8NEgxhF",
      "authorship_tag": "ABX9TyNJbExse9Z+Q0CuPnINJke9",
      "include_colab_link": true
    },
    "kernelspec": {
      "name": "python3",
      "display_name": "Python 3"
    },
    "accelerator": "GPU"
  },
  "cells": [
    {
      "cell_type": "markdown",
      "metadata": {
        "id": "view-in-github",
        "colab_type": "text"
      },
      "source": [
        "<a href=\"https://colab.research.google.com/github/kkatayama/covid19_traffic/blob/master/COVID19_TRAFFIC_TEST.ipynb\" target=\"_parent\"><img src=\"https://colab.research.google.com/assets/colab-badge.svg\" alt=\"Open In Colab\"/></a>"
      ]
    },
    {
      "cell_type": "markdown",
      "metadata": {
        "id": "Rv9q8ik3yUO5",
        "colab_type": "text"
      },
      "source": [
        "# Import and Setup "
      ]
    },
    {
      "cell_type": "code",
      "metadata": {
        "id": "WTIlHXxMxqQf",
        "colab_type": "code",
        "outputId": "2b04dfd5-1191-4b0c-eea1-504cec2aa65b",
        "colab": {
          "base_uri": "https://localhost:8080/",
          "height": 122
        }
      },
      "source": [
        "import pandas as pd\n",
        "import numpy as np\n",
        "import requests\n",
        "from google.colab import drive\n",
        "\n",
        "drive.mount('/content/gdrive')"
      ],
      "execution_count": 3,
      "outputs": [
        {
          "output_type": "stream",
          "text": [
            "Go to this URL in a browser: https://accounts.google.com/o/oauth2/auth?client_id=947318989803-6bn6qk8qdgf4n4g3pfee6491hc0brc4i.apps.googleusercontent.com&redirect_uri=urn%3aietf%3awg%3aoauth%3a2.0%3aoob&response_type=code&scope=email%20https%3a%2f%2fwww.googleapis.com%2fauth%2fdocs.test%20https%3a%2f%2fwww.googleapis.com%2fauth%2fdrive%20https%3a%2f%2fwww.googleapis.com%2fauth%2fdrive.photos.readonly%20https%3a%2f%2fwww.googleapis.com%2fauth%2fpeopleapi.readonly\n",
            "\n",
            "Enter your authorization code:\n",
            "··········\n",
            "Mounted at /content/gdrive\n"
          ],
          "name": "stdout"
        }
      ]
    },
    {
      "cell_type": "code",
      "metadata": {
        "id": "1vvMBltuyZeF",
        "colab_type": "code",
        "outputId": "6a6e8c39-ff53-44b1-f0db-0a32b3bb65e1",
        "colab": {
          "base_uri": "https://localhost:8080/",
          "height": 34
        }
      },
      "source": [
        "cd /content/gdrive/'My Drive'/_SHARED-UD-TRAFFIC/"
      ],
      "execution_count": 4,
      "outputs": [
        {
          "output_type": "stream",
          "text": [
            "/content/gdrive/.shortcut-targets-by-id/1GNkzzPvawhJiNlmrqYMtCj7o01bwjZ0l/_SHARED-UD-TRAFFIC\n"
          ],
          "name": "stdout"
        }
      ]
    },
    {
      "cell_type": "code",
      "metadata": {
        "id": "73dzYVkjzrWj",
        "colab_type": "code",
        "outputId": "8e7f48c1-bcc1-48d1-ea80-2b361d7bb774",
        "colab": {
          "base_uri": "https://localhost:8080/",
          "height": 34
        }
      },
      "source": [
        "ls"
      ],
      "execution_count": 5,
      "outputs": [
        {
          "output_type": "stream",
          "text": [
            "\u001b[0m\u001b[01;34mDATASET\u001b[0m/  \u001b[01;34mREAD-WRITE-AREA\u001b[0m/\n"
          ],
          "name": "stdout"
        }
      ]
    },
    {
      "cell_type": "code",
      "metadata": {
        "id": "phYvgxGzzrVw",
        "colab_type": "code",
        "outputId": "5cec3f3b-3314-4ebe-ab89-26d06ee4281d",
        "colab": {
          "base_uri": "https://localhost:8080/",
          "height": 34
        }
      },
      "source": [
        "cd DATASET/"
      ],
      "execution_count": 6,
      "outputs": [
        {
          "output_type": "stream",
          "text": [
            "/content/gdrive/.shortcut-targets-by-id/1GNkzzPvawhJiNlmrqYMtCj7o01bwjZ0l/_SHARED-UD-TRAFFIC/DATASET\n"
          ],
          "name": "stdout"
        }
      ]
    },
    {
      "cell_type": "code",
      "metadata": {
        "id": "J65PrlhYyaS9",
        "colab_type": "code",
        "outputId": "529542e7-40a0-4b9a-eb86-bd6f51bb06ec",
        "colab": {
          "base_uri": "https://localhost:8080/",
          "height": 34
        }
      },
      "source": [
        "!find ../READ-WRITE-AREA/ -maxdepth 1 -mindepth 1 -type d -exec du -hs {} \\; | sort -hr"
      ],
      "execution_count": 23,
      "outputs": [
        {
          "output_type": "stream",
          "text": [
            "^C\n"
          ],
          "name": "stdout"
        }
      ]
    },
    {
      "cell_type": "code",
      "metadata": {
        "id": "nmWHYweVyaVt",
        "colab_type": "code",
        "colab": {
          "base_uri": "https://localhost:8080/",
          "height": 102
        },
        "outputId": "3c7c62d5-3783-47b4-e48b-b8612b1b2534"
      },
      "source": [
        "ls ../READ-WRITE-AREA/ -lh"
      ],
      "execution_count": 22,
      "outputs": [
        {
          "output_type": "stream",
          "text": [
            "total 10K\n",
            "drwx------ 5 root root 4.0K May  8 15:49  \u001b[0m\u001b[01;34mcovid19hackathon2020\u001b[0m/\n",
            "drwx------ 2 root root 4.0K May  8 16:08 \u001b[01;34m'covid19hackathon2020 (1)'\u001b[0m/\n",
            "-rw------- 1 root root 1.3K May  8 14:56  COVID19_TRAFFIC_TEST.ipynb\n",
            "-rw------- 1 root root  151 May  7 20:05  README.gdoc\n"
          ],
          "name": "stdout"
        }
      ]
    },
    {
      "cell_type": "code",
      "metadata": {
        "id": "LlPJbiA0yaYE",
        "colab_type": "code",
        "colab": {
          "base_uri": "https://localhost:8080/",
          "height": 85
        },
        "outputId": "8e23cbe6-a87a-4a8e-afda-7ce9e534e2c2"
      },
      "source": [
        "ls"
      ],
      "execution_count": 16,
      "outputs": [
        {
          "output_type": "stream",
          "text": [
            " \u001b[0m\u001b[01;34m1579442319_200119_0854_SCAN_day\u001b[0m/    'PROPOSAL #HACK-TRAFFIC.gdoc'\n",
            " \u001b[01;34m1579478048_200119-1854_SCAN_night\u001b[0m/   \u001b[01;34mSCANS\u001b[0m/\n",
            " \u001b[01;34m1579521125_200120-0654_SCAN_dawn\u001b[0m/   '_WHY VIDEO FILES HAVE .ts EXTENSION.gdoc'\n",
            "'#hack-traffic-pitch.pptx'\n"
          ],
          "name": "stdout"
        }
      ]
    },
    {
      "cell_type": "code",
      "metadata": {
        "id": "BYOw58eHyaak",
        "colab_type": "code",
        "colab": {
          "base_uri": "https://localhost:8080/",
          "height": 34
        },
        "outputId": "812b931c-4a55-4d6f-af2e-5a0a907c1f37"
      },
      "source": [
        "cd ../READ-WRITE-AREA/covid19hackathon2020/"
      ],
      "execution_count": 26,
      "outputs": [
        {
          "output_type": "stream",
          "text": [
            "/content/gdrive/.shortcut-targets-by-id/1GNkzzPvawhJiNlmrqYMtCj7o01bwjZ0l/_SHARED-UD-TRAFFIC/READ-WRITE-AREA/covid19hackathon2020\n"
          ],
          "name": "stdout"
        }
      ]
    },
    {
      "cell_type": "code",
      "metadata": {
        "id": "7Ilr-lbkyade",
        "colab_type": "code",
        "colab": {
          "base_uri": "https://localhost:8080/",
          "height": 34
        },
        "outputId": "a0354687-614d-4afc-f851-00554bde8c0a"
      },
      "source": [
        "ls"
      ],
      "execution_count": 27,
      "outputs": [
        {
          "output_type": "stream",
          "text": [
            "\u001b[0m\u001b[01;34mcocoapi\u001b[0m/  \u001b[01;34mmodels\u001b[0m/  \u001b[01;34mobjectCounting\u001b[0m/\n"
          ],
          "name": "stdout"
        }
      ]
    },
    {
      "cell_type": "code",
      "metadata": {
        "id": "7CI184dJGJKE",
        "colab_type": "code",
        "colab": {
          "base_uri": "https://localhost:8080/",
          "height": 170
        },
        "outputId": "0aaa0be5-d6ff-4870-e72d-42974c055fef"
      },
      "source": [
        ""
      ],
      "execution_count": 28,
      "outputs": [
        {
          "output_type": "stream",
          "text": [
            "cocoapi/:\n",
            "\u001b[0m\u001b[01;34mcommon\u001b[0m/  license.txt  \u001b[01;34mLuaAPI\u001b[0m/  \u001b[01;34mMatlabAPI\u001b[0m/  \u001b[01;34mPythonAPI\u001b[0m/  README.txt  \u001b[01;34mresults\u001b[0m/\n",
            "\n",
            "models/:\n",
            "AUTHORS     \u001b[01;34mcommunity\u001b[0m/       ISSUES.md  \u001b[01;34mofficial\u001b[0m/  \u001b[01;34mresearch\u001b[0m/\n",
            "CODEOWNERS  CONTRIBUTING.md  LICENSE    README.md  WORKSPACE\n",
            "\n",
            "objectCounting/:\n",
            "\u001b[01;34mtensorflow_object_counting_api\u001b[0m/  \u001b[01;34mvehicle_counting_tensorflow\u001b[0m/\n"
          ],
          "name": "stdout"
        }
      ]
    },
    {
      "cell_type": "code",
      "metadata": {
        "id": "b2RvcYL_GLMb",
        "colab_type": "code",
        "colab": {
          "base_uri": "https://localhost:8080/",
          "height": 34
        },
        "outputId": "3da0d6f9-ca8d-46e0-cbeb-a55b9ef6aa0a"
      },
      "source": [
        "ls vehicle_counting_tensorflow/"
      ],
      "execution_count": 29,
      "outputs": [
        {
          "output_type": "stream",
          "text": [
            "ls: cannot access 'vehicle_counting_tensorflow/': No such file or directory\n"
          ],
          "name": "stdout"
        }
      ]
    },
    {
      "cell_type": "code",
      "metadata": {
        "id": "030cFTaRHdPd",
        "colab_type": "code",
        "colab": {}
      },
      "source": [
        ""
      ],
      "execution_count": 0,
      "outputs": []
    }
  ]
}